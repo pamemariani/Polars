{
 "cells": [
  {
   "cell_type": "markdown",
   "id": "4b6a720a",
   "metadata": {},
   "source": [
    "## Polars\n",
    "\n",
    "### ¿Qué es Polars? \n",
    "#### Polars es una librería diseñada para trabajar con datos tabulares (DataFrames). Tiene como principal característica la capacidad de procesar grandes volúmenes de datos de forma rápida y eficiente, gracias a que maximiza el uso de todos los cores disponibles en un ordenador.\n",
    "### La librería se importa como:\n"
   ]
  },
  {
   "cell_type": "code",
   "execution_count": 2,
   "id": "9e1c987e",
   "metadata": {},
   "outputs": [],
   "source": [
    "import polars as pl"
   ]
  },
  {
   "cell_type": "markdown",
   "id": "b73844dc",
   "metadata": {},
   "source": [
    "#### Polars puede trabajar con distintos formatos de datos (csv, parquet, json, DBs, etc.). "
   ]
  },
  {
   "cell_type": "code",
   "execution_count": 3,
   "id": "d7d0e67b",
   "metadata": {},
   "outputs": [
    {
     "name": "stdout",
     "output_type": "stream",
     "text": [
      "Tipo de objeto: <class 'polars.dataframe.frame.DataFrame'>\n",
      "Dimensiones de los datos: (7292073, 55)\n"
     ]
    },
    {
     "data": {
      "text/html": [
       "<div><style>\n",
       ".dataframe > thead > tr,\n",
       ".dataframe > tbody > tr {\n",
       "  text-align: right;\n",
       "  white-space: pre-wrap;\n",
       "}\n",
       "</style>\n",
       "<small>shape: (5, 55)</small><table border=\"1\" class=\"dataframe\"><thead><tr><th>PERIODO_PRESTACION</th><th>FECHA_DIGITACION</th><th>FOLIO_BONO</th><th>ID_RUT_TITULAR</th><th>ID_RUT_BENEFICIARIO</th><th>CODIGO_CIE</th><th>GLOSA_CIE</th><th>PERIODO_RED</th><th>FOLIO_CAEC</th><th>COD_DESCRIPCION_CAEC</th><th>GLS_DESCRIPCION_CAEC</th><th>SEXO_BENEFICIARIO</th><th>FECHA_NACIMIENTO</th><th>CANTIDADES_CARGA</th><th>HOLDING_PRESTADOR</th><th>TIPO_COBERTURA</th><th>DERIVADO_URGENCIA</th><th>CODIGO_PLAN_ISAPRE</th><th>GLOSA_PLAN_ISAPRE</th><th>PACTADO_FINAL</th><th>PACTADO_PLAN</th><th>COD_REGION</th><th>GLOSA_REGION</th><th>FECHA_INGRESO_ISAPRE</th><th>PERIODO_INGRESO_PLAN</th><th>FECHA_VIGENCIA_PLAN</th><th>FECHA_OCURRENCIA_GASTO</th><th>FECHA_REEMB_ISAPRE</th><th>COBRADO</th><th>BONIFICADO</th><th>DEDUCIBLE_CAEC</th><th>DEDUCIBLE_GES</th><th>MONTO_CAEC</th><th>COPAGO</th><th>RUT_PRESTADOR</th><th>NOMBRE_PRESTADOR</th><th>PRESTACION</th><th>SUB_TIPO_PRESTACION</th><th>GRUPO</th><th>SUBGRUPO</th><th>TIPO_BONO</th><th>GLS_TIPO_BONO</th><th>SOLICITUD_TRATAMIENTO</th><th>RUBRO</th><th>NOMBRE_RUBRO</th><th>ACTOR</th><th>NOMBRE_ACTOR</th><th>CODATE_DETALLE</th><th>GLS_CODATE_DETALLE</th><th>CODATE_TRAZADORA</th><th>GLS_CODATE_TRAZADORA</th><th>CODATE_TRAZADORA_2</th><th>GLS_CODATE_TRAZADORA_2</th><th>CODATE_TRAZADORA_3</th><th>GLS_CODATE_TRAZADORA_3</th></tr><tr><td>i64</td><td>str</td><td>i64</td><td>i64</td><td>i64</td><td>str</td><td>str</td><td>str</td><td>str</td><td>str</td><td>str</td><td>str</td><td>str</td><td>i64</td><td>str</td><td>str</td><td>str</td><td>i64</td><td>str</td><td>f64</td><td>f64</td><td>i64</td><td>str</td><td>str</td><td>f64</td><td>i64</td><td>str</td><td>str</td><td>i64</td><td>i64</td><td>str</td><td>i64</td><td>i64</td><td>i64</td><td>str</td><td>str</td><td>i64</td><td>str</td><td>str</td><td>str</td><td>i64</td><td>str</td><td>i64</td><td>f64</td><td>str</td><td>f64</td><td>str</td><td>i64</td><td>str</td><td>i64</td><td>str</td><td>i64</td><td>str</td><td>i64</td><td>str</td></tr></thead><tbody><tr><td>202304</td><td>&quot;1900-01-01 00:…</td><td>119557462</td><td>93000581</td><td>93000581</td><td>null</td><td>null</td><td>null</td><td>null</td><td>null</td><td>null</td><td>&quot;F&quot;</td><td>&quot;1995-09-02 00:…</td><td>0</td><td>&quot;BLANCO&quot;</td><td>&quot;AMBULATORIO&quot;</td><td>null</td><td>8289</td><td>&quot;ADRT5319&quot;</td><td>3.7</td><td>3.7</td><td>13</td><td>&quot;XIII REGION ME…</td><td>&quot;2020-02-24 00:…</td><td>202002.0</td><td>202004</td><td>&quot;1900-01-01 00:…</td><td>null</td><td>32660</td><td>26128</td><td>null</td><td>null</td><td>0</td><td>6532</td><td>&quot;087975900-5&quot;</td><td>&quot;CENTRO DIAGN P…</td><td>3</td><td>&quot;A&quot;</td><td>&quot;IMAGENOLOGIA&quot;</td><td>&quot;IMAGENOLOGIA&quot;</td><td>1</td><td>&quot;PLAN COMPLEMEN…</td><td>0</td><td>0.0</td><td>null</td><td>0.0</td><td>null</td><td>404003</td><td>&quot;ECOGRAFIA ABDO…</td><td>0</td><td>null</td><td>0</td><td>null</td><td>0</td><td>null</td></tr><tr><td>202304</td><td>&quot;1900-01-01 00:…</td><td>119557603</td><td>85287436</td><td>85287436</td><td>null</td><td>null</td><td>null</td><td>null</td><td>null</td><td>null</td><td>&quot;M&quot;</td><td>&quot;1991-02-07 00:…</td><td>0</td><td>&quot;BLANCO&quot;</td><td>&quot;AMBULATORIO&quot;</td><td>null</td><td>8520</td><td>&quot;BCCLTC1120&quot;</td><td>2.51</td><td>2.51</td><td>13</td><td>&quot;XIII REGION ME…</td><td>&quot;2018-03-29 00:…</td><td>202104.0</td><td>202106</td><td>&quot;1900-01-01 00:…</td><td>null</td><td>8160</td><td>8160</td><td>null</td><td>null</td><td>0</td><td>0</td><td>&quot;084655500-5&quot;</td><td>&quot;LABORATORIO CL…</td><td>2</td><td>&quot;A&quot;</td><td>&quot;EXAMENES&quot;</td><td>&quot;EXAMENES&quot;</td><td>1</td><td>&quot;PLAN COMPLEMEN…</td><td>0</td><td>0.0</td><td>null</td><td>0.0</td><td>null</td><td>302075</td><td>&quot;PERFIL BIOQUIM…</td><td>0</td><td>null</td><td>0</td><td>null</td><td>0</td><td>null</td></tr><tr><td>202304</td><td>&quot;1900-01-01 00:…</td><td>119557699</td><td>71892611</td><td>71892611</td><td>null</td><td>null</td><td>null</td><td>null</td><td>null</td><td>null</td><td>&quot;F&quot;</td><td>&quot;1982-05-28 00:…</td><td>0</td><td>&quot;BIOMET&quot;</td><td>&quot;AMBULATORIO&quot;</td><td>null</td><td>8410</td><td>&quot;JNC6120&quot;</td><td>3.84</td><td>3.84</td><td>2</td><td>&quot;II REGION DE A…</td><td>&quot;2017-08-30 00:…</td><td>202012.0</td><td>202102</td><td>&quot;1900-01-01 00:…</td><td>null</td><td>820</td><td>820</td><td>null</td><td>null</td><td>0</td><td>0</td><td>&quot;096951870-8&quot;</td><td>&quot;BIONET S.A.&quot;</td><td>2</td><td>&quot;A&quot;</td><td>&quot;EXAMENES&quot;</td><td>&quot;EXAMENES&quot;</td><td>1</td><td>&quot;PLAN COMPLEMEN…</td><td>0</td><td>0.0</td><td>null</td><td>0.0</td><td>null</td><td>307011</td><td>&quot;VENOSA EN ADUL…</td><td>0</td><td>null</td><td>0</td><td>null</td><td>0</td><td>null</td></tr><tr><td>202304</td><td>&quot;1900-01-01 00:…</td><td>119557718</td><td>86173251</td><td>86173251</td><td>null</td><td>null</td><td>null</td><td>null</td><td>null</td><td>null</td><td>&quot;M&quot;</td><td>&quot;1991-06-04 00:…</td><td>0</td><td>&quot;MEGASALUD&quot;</td><td>&quot;AMBULATORIO&quot;</td><td>null</td><td>8892</td><td>&quot;EBRO6122&quot;</td><td>3.56</td><td>3.56</td><td>13</td><td>&quot;XIII REGION ME…</td><td>&quot;2022-03-09 00:…</td><td>202203.0</td><td>202205</td><td>&quot;1900-01-01 00:…</td><td>null</td><td>40154</td><td>28108</td><td>null</td><td>null</td><td>0</td><td>12046</td><td>&quot;076110809-3&quot;</td><td>&quot;ARAUCO SALUD L…</td><td>1</td><td>&quot;A&quot;</td><td>&quot;CONSULTAS&quot;</td><td>&quot;CONSULTAS&quot;</td><td>1</td><td>&quot;PLAN COMPLEMEN…</td><td>0</td><td>0.0</td><td>null</td><td>0.0</td><td>null</td><td>30148</td><td>&quot;UROLOGIA  ADUL…</td><td>0</td><td>null</td><td>0</td><td>null</td><td>0</td><td>null</td></tr><tr><td>202304</td><td>&quot;1900-01-01 00:…</td><td>119557994</td><td>39361821</td><td>39361821</td><td>null</td><td>null</td><td>null</td><td>null</td><td>null</td><td>null</td><td>&quot;F&quot;</td><td>&quot;1975-06-20 00:…</td><td>0</td><td>&quot;LABORATORIO DE…</td><td>&quot;AMBULATORIO&quot;</td><td>null</td><td>3108</td><td>&quot;HO 708&quot;</td><td>3.39</td><td>3.39</td><td>12</td><td>&quot;XII REGION MAG…</td><td>&quot;2011-06-30 00:…</td><td>201106.0</td><td>201108</td><td>&quot;1900-01-01 00:…</td><td>null</td><td>1200</td><td>1200</td><td>null</td><td>null</td><td>0</td><td>0</td><td>&quot;076015091-6&quot;</td><td>&quot;LABORATORIO DE…</td><td>13</td><td>&quot;A&quot;</td><td>&quot;OTRAS&quot;</td><td>&quot;OTRAS&quot;</td><td>1</td><td>&quot;PLAN COMPLEMEN…</td><td>0</td><td>0.0</td><td>null</td><td>0.0</td><td>null</td><td>302367</td><td>&quot;COLESTEROL TOT…</td><td>0</td><td>null</td><td>0</td><td>null</td><td>0</td><td>null</td></tr></tbody></table></div>"
      ],
      "text/plain": [
       "shape: (5, 55)\n",
       "┌──────────────┬──────────────┬────────────┬──────────────┬───┬──────────────┬─────────────┬─────────────┬─────────────┐\n",
       "│ PERIODO_PRES ┆ FECHA_DIGITA ┆ FOLIO_BONO ┆ ID_RUT_TITUL ┆ … ┆ CODATE_TRAZA ┆ GLS_CODATE_ ┆ CODATE_TRAZ ┆ GLS_CODATE_ │\n",
       "│ TACION       ┆ CION         ┆ ---        ┆ AR           ┆   ┆ DORA_2       ┆ TRAZADORA_2 ┆ ADORA_3     ┆ TRAZADORA_3 │\n",
       "│ ---          ┆ ---          ┆ i64        ┆ ---          ┆   ┆ ---          ┆ ---         ┆ ---         ┆ ---         │\n",
       "│ i64          ┆ str          ┆            ┆ i64          ┆   ┆ i64          ┆ str         ┆ i64         ┆ str         │\n",
       "╞══════════════╪══════════════╪════════════╪══════════════╪═══╪══════════════╪═════════════╪═════════════╪═════════════╡\n",
       "│ 202304       ┆ 1900-01-01   ┆ 119557462  ┆ 93000581     ┆ … ┆ 0            ┆ null        ┆ 0           ┆ null        │\n",
       "│              ┆ 00:00:00.000 ┆            ┆              ┆   ┆              ┆             ┆             ┆             │\n",
       "│ 202304       ┆ 1900-01-01   ┆ 119557603  ┆ 85287436     ┆ … ┆ 0            ┆ null        ┆ 0           ┆ null        │\n",
       "│              ┆ 00:00:00.000 ┆            ┆              ┆   ┆              ┆             ┆             ┆             │\n",
       "│ 202304       ┆ 1900-01-01   ┆ 119557699  ┆ 71892611     ┆ … ┆ 0            ┆ null        ┆ 0           ┆ null        │\n",
       "│              ┆ 00:00:00.000 ┆            ┆              ┆   ┆              ┆             ┆             ┆             │\n",
       "│ 202304       ┆ 1900-01-01   ┆ 119557718  ┆ 86173251     ┆ … ┆ 0            ┆ null        ┆ 0           ┆ null        │\n",
       "│              ┆ 00:00:00.000 ┆            ┆              ┆   ┆              ┆             ┆             ┆             │\n",
       "│ 202304       ┆ 1900-01-01   ┆ 119557994  ┆ 39361821     ┆ … ┆ 0            ┆ null        ┆ 0           ┆ null        │\n",
       "│              ┆ 00:00:00.000 ┆            ┆              ┆   ┆              ┆             ┆             ┆             │\n",
       "└──────────────┴──────────────┴────────────┴──────────────┴───┴──────────────┴─────────────┴─────────────┴─────────────┘"
      ]
     },
     "metadata": {},
     "output_type": "display_data"
    }
   ],
   "source": [
    "# Lectura de datos (csv)\n",
    "df=pl.read_csv('CIA_SEGURO_2023.csv')\n",
    "\n",
    "print(f\"Tipo de objeto: {type(df)}\")\n",
    "print(f\"Dimensiones de los datos: {df.shape}\")\n",
    "display(df.head())"
   ]
  },
  {
   "cell_type": "markdown",
   "id": "96a2be34",
   "metadata": {},
   "source": [
    "#### La primera cosa que podemos notar es que, la función de lectura csv, es muy similar a la syntax de Pandas .read_csv() y que también nos permite pasar argumentos como sep, columns, skip_rows, etc.\n",
    "#### El objeto devuelto es de tipo polars.dataframe.frame.DataFrame, contiene 7292073 filas y 55 columnas.\n",
    "#### Al igual que en Pandas, los polars.DataFrame tiene atributos capaces de informarnos del shape, schema, columns y dtypes. \n",
    "#### Los polars.DataFrame también poseen atributos y métodos que permiten explorar y visualizar los datos de forma rápida. En el código anterior hemos llamado al método .head() que devuelve por defecto las 5 primeras líneas del DataFrame. Otros métodos para una rápida exploración son .tail() y .sample().\n",
    "#### Es interesante destacar que, cuando hacemos un display del DataFrame, se muestra debajo del nombre de cada columna el tipo de datos.\n",
    "#### A diferencia de los DataFrame de Pandas, los polars.DataFrame no tiene un index asociado a las filas."
   ]
  },
  {
   "cell_type": "markdown",
   "id": "08976a0f",
   "metadata": {},
   "source": [
    "### Atributos de un DataFrame"
   ]
  },
  {
   "cell_type": "code",
   "execution_count": 4,
   "id": "5e6eebd8",
   "metadata": {},
   "outputs": [
    {
     "name": "stdout",
     "output_type": "stream",
     "text": [
      "==================================================\n",
      "df.columns: listado de columnas de un DataFrame\n",
      "['PERIODO_PRESTACION', 'FECHA_DIGITACION', 'FOLIO_BONO', 'ID_RUT_TITULAR', 'ID_RUT_BENEFICIARIO', 'CODIGO_CIE', 'GLOSA_CIE', 'PERIODO_RED', 'FOLIO_CAEC', 'COD_DESCRIPCION_CAEC', 'GLS_DESCRIPCION_CAEC', 'SEXO_BENEFICIARIO', 'FECHA_NACIMIENTO', 'CANTIDADES_CARGA', 'HOLDING_PRESTADOR', 'TIPO_COBERTURA', 'DERIVADO_URGENCIA', 'CODIGO_PLAN_ISAPRE', 'GLOSA_PLAN_ISAPRE', 'PACTADO_FINAL', 'PACTADO_PLAN', 'COD_REGION', 'GLOSA_REGION', 'FECHA_INGRESO_ISAPRE', 'PERIODO_INGRESO_PLAN', 'FECHA_VIGENCIA_PLAN', 'FECHA_OCURRENCIA_GASTO', 'FECHA_REEMB_ISAPRE', 'COBRADO', 'BONIFICADO', 'DEDUCIBLE_CAEC', 'DEDUCIBLE_GES', 'MONTO_CAEC', 'COPAGO', 'RUT_PRESTADOR', 'NOMBRE_PRESTADOR', 'PRESTACION', 'SUB_TIPO_PRESTACION', 'GRUPO', 'SUBGRUPO', 'TIPO_BONO', 'GLS_TIPO_BONO', 'SOLICITUD_TRATAMIENTO', 'RUBRO', 'NOMBRE_RUBRO', 'ACTOR', 'NOMBRE_ACTOR', 'CODATE_DETALLE', 'GLS_CODATE_DETALLE', 'CODATE_TRAZADORA', 'GLS_CODATE_TRAZADORA', 'CODATE_TRAZADORA_2', 'GLS_CODATE_TRAZADORA_2', 'CODATE_TRAZADORA_3', 'GLS_CODATE_TRAZADORA_3']\n",
      "\n",
      "==================================================\n",
      "df.types: tipos de datos de las columnas de un DataFrame\n",
      "[Int64, String, Int64, Int64, Int64, String, String, String, String, String, String, String, String, Int64, String, String, String, Int64, String, Float64, Float64, Int64, String, String, Float64, Int64, String, String, Int64, Int64, String, Int64, Int64, Int64, String, String, Int64, String, String, String, Int64, String, Int64, Float64, String, Float64, String, Int64, String, Int64, String, Int64, String, Int64, String]\n",
      "Tipos de datos únicos: {Int64, Float64, String}\n",
      "\n",
      "==================================================\n",
      "df.schema: Diccionario con las columnas y sus tipos de datos\n",
      "OrderedDict([('PERIODO_PRESTACION', Int64), ('FECHA_DIGITACION', String), ('FOLIO_BONO', Int64), ('ID_RUT_TITULAR', Int64), ('ID_RUT_BENEFICIARIO', Int64), ('CODIGO_CIE', String), ('GLOSA_CIE', String), ('PERIODO_RED', String), ('FOLIO_CAEC', String), ('COD_DESCRIPCION_CAEC', String), ('GLS_DESCRIPCION_CAEC', String), ('SEXO_BENEFICIARIO', String), ('FECHA_NACIMIENTO', String), ('CANTIDADES_CARGA', Int64), ('HOLDING_PRESTADOR', String), ('TIPO_COBERTURA', String), ('DERIVADO_URGENCIA', String), ('CODIGO_PLAN_ISAPRE', Int64), ('GLOSA_PLAN_ISAPRE', String), ('PACTADO_FINAL', Float64), ('PACTADO_PLAN', Float64), ('COD_REGION', Int64), ('GLOSA_REGION', String), ('FECHA_INGRESO_ISAPRE', String), ('PERIODO_INGRESO_PLAN', Float64), ('FECHA_VIGENCIA_PLAN', Int64), ('FECHA_OCURRENCIA_GASTO', String), ('FECHA_REEMB_ISAPRE', String), ('COBRADO', Int64), ('BONIFICADO', Int64), ('DEDUCIBLE_CAEC', String), ('DEDUCIBLE_GES', Int64), ('MONTO_CAEC', Int64), ('COPAGO', Int64), ('RUT_PRESTADOR', String), ('NOMBRE_PRESTADOR', String), ('PRESTACION', Int64), ('SUB_TIPO_PRESTACION', String), ('GRUPO', String), ('SUBGRUPO', String), ('TIPO_BONO', Int64), ('GLS_TIPO_BONO', String), ('SOLICITUD_TRATAMIENTO', Int64), ('RUBRO', Float64), ('NOMBRE_RUBRO', String), ('ACTOR', Float64), ('NOMBRE_ACTOR', String), ('CODATE_DETALLE', Int64), ('GLS_CODATE_DETALLE', String), ('CODATE_TRAZADORA', Int64), ('GLS_CODATE_TRAZADORA', String), ('CODATE_TRAZADORA_2', Int64), ('GLS_CODATE_TRAZADORA_2', String), ('CODATE_TRAZADORA_3', Int64), ('GLS_CODATE_TRAZADORA_3', String)])\n",
      "\n",
      "==================================================\n",
      "df.shape : filas x columnas de un DataFrame\n",
      "(7292073, 55)\n",
      "\n",
      "==================================================\n",
      "df.height : número de filas de un DataFrame\n",
      "7292073\n",
      "\n",
      "==================================================\n",
      "df.width : número de columnas de un DataFrame\n",
      "55\n",
      "\n"
     ]
    }
   ],
   "source": [
    "n_chars = 50\n",
    "\n",
    "# df.columns\n",
    "# ==============================================================================\n",
    "print(\"=\"*n_chars)\n",
    "print(\"df.columns: listado de columnas de un DataFrame\")\n",
    "print(df.columns)\n",
    "print(\"\")\n",
    "\n",
    "# df.types\n",
    "# ==============================================================================\n",
    "print(\"=\"*n_chars)\n",
    "print(\"df.types: tipos de datos de las columnas de un DataFrame\")\n",
    "print(df.dtypes)\n",
    "print(f\"Tipos de datos únicos: {set(df.dtypes)}\")\n",
    "print(\"\")\n",
    "\n",
    "# df.schema\n",
    "# ==============================================================================\n",
    "print(\"=\"*n_chars)\n",
    "print(\"df.schema: Diccionario con las columnas y sus tipos de datos\")\n",
    "print(df.schema)\n",
    "print(\"\")\n",
    "\n",
    "# df.shape\n",
    "# ==============================================================================\n",
    "print(\"=\"*n_chars)\n",
    "print(\"df.shape : filas x columnas de un DataFrame\")\n",
    "print(df.shape)\n",
    "print(\"\")\n",
    "\n",
    "# df.height\n",
    "# ==============================================================================\n",
    "print(\"=\"*n_chars)\n",
    "print(\"df.height : número de filas de un DataFrame\")\n",
    "print(df.height)\n",
    "print(\"\")\n",
    "\n",
    "# df.width\n",
    "# ==============================================================================\n",
    "print(\"=\"*n_chars)\n",
    "print(\"df.width : número de columnas de un DataFrame\")\n",
    "print(df.width)\n",
    "print(\"\")"
   ]
  },
  {
   "cell_type": "markdown",
   "id": "370b15d9",
   "metadata": {},
   "source": [
    "### Métricas y valores descriptivos"
   ]
  },
  {
   "cell_type": "markdown",
   "id": "ed49e1cc",
   "metadata": {},
   "source": [
    "##### Los polars.DataFrame tienen distintos métodos capaces de generar métricas descriptivas de los datos. Entre ellos destaca el método .null_count() devuelve un DataFrame con el total de valores nulos por columna."
   ]
  },
  {
   "cell_type": "code",
   "execution_count": 5,
   "id": "02fe10e6",
   "metadata": {},
   "outputs": [
    {
     "name": "stdout",
     "output_type": "stream",
     "text": [
      "df.null_count(): Devuelve un DataFrame con el total de valores nulos por columna\n"
     ]
    },
    {
     "data": {
      "text/html": [
       "<div><style>\n",
       ".dataframe > thead > tr,\n",
       ".dataframe > tbody > tr {\n",
       "  text-align: right;\n",
       "  white-space: pre-wrap;\n",
       "}\n",
       "</style>\n",
       "<small>shape: (1, 55)</small><table border=\"1\" class=\"dataframe\"><thead><tr><th>PERIODO_PRESTACION</th><th>FECHA_DIGITACION</th><th>FOLIO_BONO</th><th>ID_RUT_TITULAR</th><th>ID_RUT_BENEFICIARIO</th><th>CODIGO_CIE</th><th>GLOSA_CIE</th><th>PERIODO_RED</th><th>FOLIO_CAEC</th><th>COD_DESCRIPCION_CAEC</th><th>GLS_DESCRIPCION_CAEC</th><th>SEXO_BENEFICIARIO</th><th>FECHA_NACIMIENTO</th><th>CANTIDADES_CARGA</th><th>HOLDING_PRESTADOR</th><th>TIPO_COBERTURA</th><th>DERIVADO_URGENCIA</th><th>CODIGO_PLAN_ISAPRE</th><th>GLOSA_PLAN_ISAPRE</th><th>PACTADO_FINAL</th><th>PACTADO_PLAN</th><th>COD_REGION</th><th>GLOSA_REGION</th><th>FECHA_INGRESO_ISAPRE</th><th>PERIODO_INGRESO_PLAN</th><th>FECHA_VIGENCIA_PLAN</th><th>FECHA_OCURRENCIA_GASTO</th><th>FECHA_REEMB_ISAPRE</th><th>COBRADO</th><th>BONIFICADO</th><th>DEDUCIBLE_CAEC</th><th>DEDUCIBLE_GES</th><th>MONTO_CAEC</th><th>COPAGO</th><th>RUT_PRESTADOR</th><th>NOMBRE_PRESTADOR</th><th>PRESTACION</th><th>SUB_TIPO_PRESTACION</th><th>GRUPO</th><th>SUBGRUPO</th><th>TIPO_BONO</th><th>GLS_TIPO_BONO</th><th>SOLICITUD_TRATAMIENTO</th><th>RUBRO</th><th>NOMBRE_RUBRO</th><th>ACTOR</th><th>NOMBRE_ACTOR</th><th>CODATE_DETALLE</th><th>GLS_CODATE_DETALLE</th><th>CODATE_TRAZADORA</th><th>GLS_CODATE_TRAZADORA</th><th>CODATE_TRAZADORA_2</th><th>GLS_CODATE_TRAZADORA_2</th><th>CODATE_TRAZADORA_3</th><th>GLS_CODATE_TRAZADORA_3</th></tr><tr><td>u32</td><td>u32</td><td>u32</td><td>u32</td><td>u32</td><td>u32</td><td>u32</td><td>u32</td><td>u32</td><td>u32</td><td>u32</td><td>u32</td><td>u32</td><td>u32</td><td>u32</td><td>u32</td><td>u32</td><td>u32</td><td>u32</td><td>u32</td><td>u32</td><td>u32</td><td>u32</td><td>u32</td><td>u32</td><td>u32</td><td>u32</td><td>u32</td><td>u32</td><td>u32</td><td>u32</td><td>u32</td><td>u32</td><td>u32</td><td>u32</td><td>u32</td><td>u32</td><td>u32</td><td>u32</td><td>u32</td><td>u32</td><td>u32</td><td>u32</td><td>u32</td><td>u32</td><td>u32</td><td>u32</td><td>u32</td><td>u32</td><td>u32</td><td>u32</td><td>u32</td><td>u32</td><td>u32</td><td>u32</td></tr></thead><tbody><tr><td>0</td><td>1052200</td><td>0</td><td>0</td><td>333</td><td>6644237</td><td>6644237</td><td>7255202</td><td>7255202</td><td>7255202</td><td>7255202</td><td>0</td><td>333</td><td>70</td><td>132346</td><td>0</td><td>6644237</td><td>1724</td><td>1724</td><td>7655</td><td>7655</td><td>123363</td><td>285894</td><td>70</td><td>0</td><td>1886</td><td>1052200</td><td>6171865</td><td>0</td><td>0</td><td>7255202</td><td>6909095</td><td>0</td><td>0</td><td>0</td><td>0</td><td>0</td><td>0</td><td>0</td><td>0</td><td>0</td><td>0</td><td>1052200</td><td>1301552</td><td>6893589</td><td>1450684</td><td>7042721</td><td>398484</td><td>398490</td><td>1052200</td><td>6644263</td><td>1301552</td><td>7251737</td><td>1301552</td><td>7284648</td></tr></tbody></table></div>"
      ],
      "text/plain": [
       "shape: (1, 55)\n",
       "┌──────────────┬──────────────┬────────────┬──────────────┬───┬──────────────┬─────────────┬─────────────┬─────────────┐\n",
       "│ PERIODO_PRES ┆ FECHA_DIGITA ┆ FOLIO_BONO ┆ ID_RUT_TITUL ┆ … ┆ CODATE_TRAZA ┆ GLS_CODATE_ ┆ CODATE_TRAZ ┆ GLS_CODATE_ │\n",
       "│ TACION       ┆ CION         ┆ ---        ┆ AR           ┆   ┆ DORA_2       ┆ TRAZADORA_2 ┆ ADORA_3     ┆ TRAZADORA_3 │\n",
       "│ ---          ┆ ---          ┆ u32        ┆ ---          ┆   ┆ ---          ┆ ---         ┆ ---         ┆ ---         │\n",
       "│ u32          ┆ u32          ┆            ┆ u32          ┆   ┆ u32          ┆ u32         ┆ u32         ┆ u32         │\n",
       "╞══════════════╪══════════════╪════════════╪══════════════╪═══╪══════════════╪═════════════╪═════════════╪═════════════╡\n",
       "│ 0            ┆ 1052200      ┆ 0          ┆ 0            ┆ … ┆ 1301552      ┆ 7251737     ┆ 1301552     ┆ 7284648     │\n",
       "└──────────────┴──────────────┴────────────┴──────────────┴───┴──────────────┴─────────────┴─────────────┴─────────────┘"
      ]
     },
     "metadata": {},
     "output_type": "display_data"
    }
   ],
   "source": [
    "# df.null_count()\n",
    "\n",
    "print(\"df.null_count(): Devuelve un DataFrame con el total de valores nulos por columna\")\n",
    "display(df.null_count())"
   ]
  },
  {
   "cell_type": "markdown",
   "id": "90d1ea43",
   "metadata": {},
   "source": [
    "### Polar Expressions\n",
    "#### Las Expressions son funciones/métodos utilizados a la hora de realizar operaciones con datos en Polars (e.g., selección, creación y manipulación de columnas, aplicación de filtros, entre otros). Tienen como entrada una serie y como salida otra serie, y són, por definición, un mapeo entre séries, lo que nos permite encadenarlas. Además, Polars es capaz de automatizar la ejecución de las expressions en paralelo siempre que sea posible (cuando se trabaja con múltiples columnas, por ejemplo) lo que hace de las Expressions algo muy potente.\n",
    "\n",
    "#### Selección de columnas: vamos ahora ver un ejemplo de cómo seleccionar columna(s) utilizando a Polars Expressions:"
   ]
  },
  {
   "cell_type": "code",
   "execution_count": 6,
   "id": "5dc51e0a",
   "metadata": {},
   "outputs": [
    {
     "data": {
      "text/html": [
       "<div><style>\n",
       ".dataframe > thead > tr,\n",
       ".dataframe > tbody > tr {\n",
       "  text-align: right;\n",
       "  white-space: pre-wrap;\n",
       "}\n",
       "</style>\n",
       "<small>shape: (7_292_073, 1)</small><table border=\"1\" class=\"dataframe\"><thead><tr><th>ID_RUT_TITULAR</th></tr><tr><td>i64</td></tr></thead><tbody><tr><td>93000581</td></tr><tr><td>85287436</td></tr><tr><td>71892611</td></tr><tr><td>86173251</td></tr><tr><td>39361821</td></tr><tr><td>74537541</td></tr><tr><td>28639026</td></tr><tr><td>62332726</td></tr><tr><td>58022671</td></tr><tr><td>65478266</td></tr><tr><td>80045456</td></tr><tr><td>85147101</td></tr><tr><td>&hellip;</td></tr><tr><td>48088851</td></tr><tr><td>84341286</td></tr><tr><td>29953286</td></tr><tr><td>66876216</td></tr><tr><td>16061201</td></tr><tr><td>83343921</td></tr><tr><td>80086061</td></tr><tr><td>93824811</td></tr><tr><td>72319961</td></tr><tr><td>28228646</td></tr><tr><td>33871981</td></tr><tr><td>48893271</td></tr></tbody></table></div>"
      ],
      "text/plain": [
       "shape: (7_292_073, 1)\n",
       "┌────────────────┐\n",
       "│ ID_RUT_TITULAR │\n",
       "│ ---            │\n",
       "│ i64            │\n",
       "╞════════════════╡\n",
       "│ 93000581       │\n",
       "│ 85287436       │\n",
       "│ 71892611       │\n",
       "│ 86173251       │\n",
       "│ 39361821       │\n",
       "│ …              │\n",
       "│ 93824811       │\n",
       "│ 72319961       │\n",
       "│ 28228646       │\n",
       "│ 33871981       │\n",
       "│ 48893271       │\n",
       "└────────────────┘"
      ]
     },
     "execution_count": 6,
     "metadata": {},
     "output_type": "execute_result"
    }
   ],
   "source": [
    "# .select(): Método utilizado para seleccionar una o más columnas\n",
    "# ==============================================================================\n",
    "df.select(pl.col('ID_RUT_TITULAR'))"
   ]
  },
  {
   "cell_type": "code",
   "execution_count": 7,
   "id": "3d6313ad",
   "metadata": {},
   "outputs": [
    {
     "data": {
      "text/plain": [
       "polars.dataframe.frame.DataFrame"
      ]
     },
     "execution_count": 7,
     "metadata": {},
     "output_type": "execute_result"
    }
   ],
   "source": [
    "type(df.select(pl.col('ID_RUT_TITULAR')))"
   ]
  },
  {
   "cell_type": "markdown",
   "id": "69662db9",
   "metadata": {},
   "source": [
    "##### Cómo podemos observar en este ejemplo, hemos utilizado el método .select() para seleccionar una columna específica de nuestro DataFrame ('ID_RUT_TITULAR'). Por defecto, este método nos retorna otro DataFrame (polars.dataframe.frame.DataFrame)\n",
    "#### Para seleccionar columnas podemos pasar una lista con las columnas deseadas:"
   ]
  },
  {
   "cell_type": "code",
   "execution_count": 8,
   "id": "ee9d9881",
   "metadata": {},
   "outputs": [
    {
     "data": {
      "text/html": [
       "<div><style>\n",
       ".dataframe > thead > tr,\n",
       ".dataframe > tbody > tr {\n",
       "  text-align: right;\n",
       "  white-space: pre-wrap;\n",
       "}\n",
       "</style>\n",
       "<small>shape: (7_292_073, 2)</small><table border=\"1\" class=\"dataframe\"><thead><tr><th>ID_RUT_TITULAR</th><th>SEXO_BENEFICIARIO</th></tr><tr><td>i64</td><td>str</td></tr></thead><tbody><tr><td>93000581</td><td>&quot;F&quot;</td></tr><tr><td>85287436</td><td>&quot;M&quot;</td></tr><tr><td>71892611</td><td>&quot;F&quot;</td></tr><tr><td>86173251</td><td>&quot;M&quot;</td></tr><tr><td>39361821</td><td>&quot;F&quot;</td></tr><tr><td>74537541</td><td>&quot;M&quot;</td></tr><tr><td>28639026</td><td>&quot;F&quot;</td></tr><tr><td>62332726</td><td>&quot;F&quot;</td></tr><tr><td>58022671</td><td>&quot;M&quot;</td></tr><tr><td>65478266</td><td>&quot;F&quot;</td></tr><tr><td>80045456</td><td>&quot;F&quot;</td></tr><tr><td>85147101</td><td>&quot;M&quot;</td></tr><tr><td>&hellip;</td><td>&hellip;</td></tr><tr><td>48088851</td><td>&quot;F&quot;</td></tr><tr><td>84341286</td><td>&quot;F&quot;</td></tr><tr><td>29953286</td><td>&quot;F&quot;</td></tr><tr><td>66876216</td><td>&quot;M&quot;</td></tr><tr><td>16061201</td><td>&quot;F&quot;</td></tr><tr><td>83343921</td><td>&quot;F&quot;</td></tr><tr><td>80086061</td><td>&quot;M&quot;</td></tr><tr><td>93824811</td><td>&quot;F&quot;</td></tr><tr><td>72319961</td><td>&quot;F&quot;</td></tr><tr><td>28228646</td><td>&quot;M&quot;</td></tr><tr><td>33871981</td><td>&quot;M&quot;</td></tr><tr><td>48893271</td><td>&quot;F&quot;</td></tr></tbody></table></div>"
      ],
      "text/plain": [
       "shape: (7_292_073, 2)\n",
       "┌────────────────┬───────────────────┐\n",
       "│ ID_RUT_TITULAR ┆ SEXO_BENEFICIARIO │\n",
       "│ ---            ┆ ---               │\n",
       "│ i64            ┆ str               │\n",
       "╞════════════════╪═══════════════════╡\n",
       "│ 93000581       ┆ F                 │\n",
       "│ 85287436       ┆ M                 │\n",
       "│ 71892611       ┆ F                 │\n",
       "│ 86173251       ┆ M                 │\n",
       "│ 39361821       ┆ F                 │\n",
       "│ …              ┆ …                 │\n",
       "│ 93824811       ┆ F                 │\n",
       "│ 72319961       ┆ F                 │\n",
       "│ 28228646       ┆ M                 │\n",
       "│ 33871981       ┆ M                 │\n",
       "│ 48893271       ┆ F                 │\n",
       "└────────────────┴───────────────────┘"
      ]
     },
     "execution_count": 8,
     "metadata": {},
     "output_type": "execute_result"
    }
   ],
   "source": [
    "df.select([pl.col('ID_RUT_TITULAR'),pl.col('SEXO_BENEFICIARIO')])"
   ]
  },
  {
   "cell_type": "markdown",
   "id": "b8ec3b30",
   "metadata": {},
   "source": [
    "#### Al utilizar la expresión pl.col() dentro del contexto .select(), uno puede realizar más manipulaciones en la columna. De hecho, puedes usar tantas expresiones en la columna como quieras, lo que te permite realizar varias operaciones. "
   ]
  },
  {
   "cell_type": "markdown",
   "id": "347cffb6",
   "metadata": {},
   "source": [
    "#### Creando una secuencia de tareas: en esta sección vamos a entender de manera muy sencilla cómo podemos crear una secuencia de pasos para manipular nuestros datos. Estos serán los pasos que vamos a implementar:\n",
    "###### Seleccionar y renombrar columnas\n",
    "###### Crear una nueva columna\n",
    "###### Aplicar un filtro a una determinada columna\n",
    "###### Realizar una ordenación"
   ]
  },
  {
   "cell_type": "code",
   "execution_count": 9,
   "id": "6381dec2",
   "metadata": {},
   "outputs": [
    {
     "data": {
      "text/html": [
       "<div><style>\n",
       ".dataframe > thead > tr,\n",
       ".dataframe > tbody > tr {\n",
       "  text-align: right;\n",
       "  white-space: pre-wrap;\n",
       "}\n",
       "</style>\n",
       "<small>shape: (5, 6)</small><table border=\"1\" class=\"dataframe\"><thead><tr><th>sexo_benef</th><th>nro_cargas</th><th>fecha_cumple</th><th>cobrado</th><th>bonificado</th><th>grupo</th></tr><tr><td>str</td><td>i64</td><td>str</td><td>i64</td><td>i64</td><td>str</td></tr></thead><tbody><tr><td>&quot;F&quot;</td><td>0</td><td>&quot;1995-09-02 00:…</td><td>32660</td><td>26128</td><td>&quot;IMAGENOLOGIA&quot;</td></tr><tr><td>&quot;M&quot;</td><td>0</td><td>&quot;1991-02-07 00:…</td><td>8160</td><td>8160</td><td>&quot;EXAMENES&quot;</td></tr><tr><td>&quot;F&quot;</td><td>0</td><td>&quot;1982-05-28 00:…</td><td>820</td><td>820</td><td>&quot;EXAMENES&quot;</td></tr><tr><td>&quot;M&quot;</td><td>0</td><td>&quot;1991-06-04 00:…</td><td>40154</td><td>28108</td><td>&quot;CONSULTAS&quot;</td></tr><tr><td>&quot;F&quot;</td><td>0</td><td>&quot;1975-06-20 00:…</td><td>1200</td><td>1200</td><td>&quot;OTRAS&quot;</td></tr></tbody></table></div>"
      ],
      "text/plain": [
       "shape: (5, 6)\n",
       "┌────────────┬────────────┬─────────────────────────┬─────────┬────────────┬──────────────┐\n",
       "│ sexo_benef ┆ nro_cargas ┆ fecha_cumple            ┆ cobrado ┆ bonificado ┆ grupo        │\n",
       "│ ---        ┆ ---        ┆ ---                     ┆ ---     ┆ ---        ┆ ---          │\n",
       "│ str        ┆ i64        ┆ str                     ┆ i64     ┆ i64        ┆ str          │\n",
       "╞════════════╪════════════╪═════════════════════════╪═════════╪════════════╪══════════════╡\n",
       "│ F          ┆ 0          ┆ 1995-09-02 00:00:00.000 ┆ 32660   ┆ 26128      ┆ IMAGENOLOGIA │\n",
       "│ M          ┆ 0          ┆ 1991-02-07 00:00:00.000 ┆ 8160    ┆ 8160       ┆ EXAMENES     │\n",
       "│ F          ┆ 0          ┆ 1982-05-28 00:00:00.000 ┆ 820     ┆ 820        ┆ EXAMENES     │\n",
       "│ M          ┆ 0          ┆ 1991-06-04 00:00:00.000 ┆ 40154   ┆ 28108      ┆ CONSULTAS    │\n",
       "│ F          ┆ 0          ┆ 1975-06-20 00:00:00.000 ┆ 1200    ┆ 1200       ┆ OTRAS        │\n",
       "└────────────┴────────────┴─────────────────────────┴─────────┴────────────┴──────────────┘"
      ]
     },
     "execution_count": 9,
     "metadata": {},
     "output_type": "execute_result"
    }
   ],
   "source": [
    "# 1. Seleccionar y renombrar columnas\n",
    "# ==============================================================================\n",
    "\n",
    "nuevo_df = (df.select([\n",
    "            pl.col('SEXO_BENEFICIARIO').alias('sexo_benef'),\n",
    "            pl.col('CANTIDADES_CARGA').alias('nro_cargas'),\n",
    "            pl.col('FECHA_NACIMIENTO').alias('fecha_cumple'),\n",
    "            pl.col('COBRADO').alias('cobrado'),\n",
    "            pl.col('BONIFICADO').alias('bonificado'),\n",
    "            pl.col('GRUPO').alias('grupo')]))\n",
    "nuevo_df.head()"
   ]
  },
  {
   "cell_type": "markdown",
   "id": "bcd02a24",
   "metadata": {},
   "source": [
    "##### Cómo podemos ver, una manera de renombrar las columnas es a través de la expresión alias() que puede ser encadenada a cada una de las columnas dentro del select()."
   ]
  },
  {
   "cell_type": "code",
   "execution_count": 10,
   "id": "d742a7f9",
   "metadata": {},
   "outputs": [
    {
     "data": {
      "text/html": [
       "<div><style>\n",
       ".dataframe > thead > tr,\n",
       ".dataframe > tbody > tr {\n",
       "  text-align: right;\n",
       "  white-space: pre-wrap;\n",
       "}\n",
       "</style>\n",
       "<small>shape: (5, 8)</small><table border=\"1\" class=\"dataframe\"><thead><tr><th>sexo_benef</th><th>nro_cargas</th><th>fecha_cumple</th><th>cobrado</th><th>bonificado</th><th>grupo</th><th>TOTAL</th><th>fecha_ejecucion</th></tr><tr><td>str</td><td>i64</td><td>str</td><td>i64</td><td>i64</td><td>str</td><td>i64</td><td>date</td></tr></thead><tbody><tr><td>&quot;F&quot;</td><td>0</td><td>&quot;1995-09-02 00:…</td><td>32660</td><td>26128</td><td>&quot;IMAGENOLOGIA&quot;</td><td>58788</td><td>2024-02-14</td></tr><tr><td>&quot;M&quot;</td><td>0</td><td>&quot;1991-02-07 00:…</td><td>8160</td><td>8160</td><td>&quot;EXAMENES&quot;</td><td>16320</td><td>2024-02-14</td></tr><tr><td>&quot;F&quot;</td><td>0</td><td>&quot;1982-05-28 00:…</td><td>820</td><td>820</td><td>&quot;EXAMENES&quot;</td><td>1640</td><td>2024-02-14</td></tr><tr><td>&quot;M&quot;</td><td>0</td><td>&quot;1991-06-04 00:…</td><td>40154</td><td>28108</td><td>&quot;CONSULTAS&quot;</td><td>68262</td><td>2024-02-14</td></tr><tr><td>&quot;F&quot;</td><td>0</td><td>&quot;1975-06-20 00:…</td><td>1200</td><td>1200</td><td>&quot;OTRAS&quot;</td><td>2400</td><td>2024-02-14</td></tr></tbody></table></div>"
      ],
      "text/plain": [
       "shape: (5, 8)\n",
       "┌────────────┬────────────┬─────────────────────────┬─────────┬────────────┬──────────────┬───────┬─────────────────┐\n",
       "│ sexo_benef ┆ nro_cargas ┆ fecha_cumple            ┆ cobrado ┆ bonificado ┆ grupo        ┆ TOTAL ┆ fecha_ejecucion │\n",
       "│ ---        ┆ ---        ┆ ---                     ┆ ---     ┆ ---        ┆ ---          ┆ ---   ┆ ---             │\n",
       "│ str        ┆ i64        ┆ str                     ┆ i64     ┆ i64        ┆ str          ┆ i64   ┆ date            │\n",
       "╞════════════╪════════════╪═════════════════════════╪═════════╪════════════╪══════════════╪═══════╪═════════════════╡\n",
       "│ F          ┆ 0          ┆ 1995-09-02 00:00:00.000 ┆ 32660   ┆ 26128      ┆ IMAGENOLOGIA ┆ 58788 ┆ 2024-02-14      │\n",
       "│ M          ┆ 0          ┆ 1991-02-07 00:00:00.000 ┆ 8160    ┆ 8160       ┆ EXAMENES     ┆ 16320 ┆ 2024-02-14      │\n",
       "│ F          ┆ 0          ┆ 1982-05-28 00:00:00.000 ┆ 820     ┆ 820        ┆ EXAMENES     ┆ 1640  ┆ 2024-02-14      │\n",
       "│ M          ┆ 0          ┆ 1991-06-04 00:00:00.000 ┆ 40154   ┆ 28108      ┆ CONSULTAS    ┆ 68262 ┆ 2024-02-14      │\n",
       "│ F          ┆ 0          ┆ 1975-06-20 00:00:00.000 ┆ 1200    ┆ 1200       ┆ OTRAS        ┆ 2400  ┆ 2024-02-14      │\n",
       "└────────────┴────────────┴─────────────────────────┴─────────┴────────────┴──────────────┴───────┴─────────────────┘"
      ]
     },
     "execution_count": 10,
     "metadata": {},
     "output_type": "execute_result"
    }
   ],
   "source": [
    "# 2. Creación de nuevas columnas: unit_cost, execution_date\n",
    "# ==============================================================================\n",
    "from datetime import datetime\n",
    "nuevo_df = (nuevo_df.with_columns([\n",
    "        (pl.col('cobrado')+pl.col('bonificado')).alias('TOTAL'),\n",
    "        (pl.lit(datetime.now().date()).alias('fecha_ejecucion')),]))\n",
    "nuevo_df.head()"
   ]
  },
  {
   "cell_type": "markdown",
   "id": "4c09327a",
   "metadata": {},
   "source": [
    "##### Para crear columnas utilizamos la expresión with_columns() donde podemos crear varias columnas a la vez. pl.lit() se utiliza cuando queremos propagar una constante para todo el DataFrame. En este ejemplo hemos creado una fecha de ejecución que ha sido propagada en todo el DataFrame en la nueva columna fecha_ejecucion que fue automáticamente inferida cómo tipo date por Polars."
   ]
  },
  {
   "cell_type": "code",
   "execution_count": 11,
   "id": "b6c7003a",
   "metadata": {},
   "outputs": [
    {
     "data": {
      "text/html": [
       "<div><style>\n",
       ".dataframe > thead > tr,\n",
       ".dataframe > tbody > tr {\n",
       "  text-align: right;\n",
       "  white-space: pre-wrap;\n",
       "}\n",
       "</style>\n",
       "<small>shape: (5, 8)</small><table border=\"1\" class=\"dataframe\"><thead><tr><th>sexo_benef</th><th>nro_cargas</th><th>fecha_cumple</th><th>cobrado</th><th>bonificado</th><th>grupo</th><th>TOTAL</th><th>fecha_ejecucion</th></tr><tr><td>str</td><td>i64</td><td>str</td><td>i64</td><td>i64</td><td>str</td><td>i64</td><td>date</td></tr></thead><tbody><tr><td>&quot;M&quot;</td><td>0</td><td>&quot;1991-02-07 00:…</td><td>8160</td><td>8160</td><td>&quot;EXAMENES&quot;</td><td>16320</td><td>2024-02-14</td></tr><tr><td>&quot;F&quot;</td><td>0</td><td>&quot;1982-05-28 00:…</td><td>820</td><td>820</td><td>&quot;EXAMENES&quot;</td><td>1640</td><td>2024-02-14</td></tr><tr><td>&quot;M&quot;</td><td>0</td><td>&quot;1991-06-04 00:…</td><td>40154</td><td>28108</td><td>&quot;CONSULTAS&quot;</td><td>68262</td><td>2024-02-14</td></tr><tr><td>&quot;M&quot;</td><td>1</td><td>&quot;1984-10-14 00:…</td><td>1310</td><td>771</td><td>&quot;EXAMENES&quot;</td><td>2081</td><td>2024-02-14</td></tr><tr><td>&quot;F&quot;</td><td>1</td><td>&quot;1961-12-31 00:…</td><td>7921</td><td>5545</td><td>&quot;EXAMENES&quot;</td><td>13466</td><td>2024-02-14</td></tr></tbody></table></div>"
      ],
      "text/plain": [
       "shape: (5, 8)\n",
       "┌────────────┬────────────┬─────────────────────────┬─────────┬────────────┬───────────┬───────┬─────────────────┐\n",
       "│ sexo_benef ┆ nro_cargas ┆ fecha_cumple            ┆ cobrado ┆ bonificado ┆ grupo     ┆ TOTAL ┆ fecha_ejecucion │\n",
       "│ ---        ┆ ---        ┆ ---                     ┆ ---     ┆ ---        ┆ ---       ┆ ---   ┆ ---             │\n",
       "│ str        ┆ i64        ┆ str                     ┆ i64     ┆ i64        ┆ str       ┆ i64   ┆ date            │\n",
       "╞════════════╪════════════╪═════════════════════════╪═════════╪════════════╪═══════════╪═══════╪═════════════════╡\n",
       "│ M          ┆ 0          ┆ 1991-02-07 00:00:00.000 ┆ 8160    ┆ 8160       ┆ EXAMENES  ┆ 16320 ┆ 2024-02-14      │\n",
       "│ F          ┆ 0          ┆ 1982-05-28 00:00:00.000 ┆ 820     ┆ 820        ┆ EXAMENES  ┆ 1640  ┆ 2024-02-14      │\n",
       "│ M          ┆ 0          ┆ 1991-06-04 00:00:00.000 ┆ 40154   ┆ 28108      ┆ CONSULTAS ┆ 68262 ┆ 2024-02-14      │\n",
       "│ M          ┆ 1          ┆ 1984-10-14 00:00:00.000 ┆ 1310    ┆ 771        ┆ EXAMENES  ┆ 2081  ┆ 2024-02-14      │\n",
       "│ F          ┆ 1          ┆ 1961-12-31 00:00:00.000 ┆ 7921    ┆ 5545       ┆ EXAMENES  ┆ 13466 ┆ 2024-02-14      │\n",
       "└────────────┴────────────┴─────────────────────────┴─────────┴────────────┴───────────┴───────┴─────────────────┘"
      ]
     },
     "execution_count": 11,
     "metadata": {},
     "output_type": "execute_result"
    }
   ],
   "source": [
    "# 3. Filtrar filas: GRUPO = 'EXAMENES' or  'CONSULTAS'\n",
    "# ==============================================================================\n",
    "nuevo_df = (nuevo_df.filter((pl.col('grupo') == 'EXAMENES') | (pl.col('grupo') == 'CONSULTAS')))\n",
    "nuevo_df.head()"
   ]
  },
  {
   "cell_type": "code",
   "execution_count": 12,
   "id": "3d97fc25",
   "metadata": {},
   "outputs": [
    {
     "data": {
      "text/html": [
       "<div><style>\n",
       ".dataframe > thead > tr,\n",
       ".dataframe > tbody > tr {\n",
       "  text-align: right;\n",
       "  white-space: pre-wrap;\n",
       "}\n",
       "</style>\n",
       "<small>shape: (5, 55)</small><table border=\"1\" class=\"dataframe\"><thead><tr><th>PERIODO_PRESTACION</th><th>FECHA_DIGITACION</th><th>FOLIO_BONO</th><th>ID_RUT_TITULAR</th><th>ID_RUT_BENEFICIARIO</th><th>CODIGO_CIE</th><th>GLOSA_CIE</th><th>PERIODO_RED</th><th>FOLIO_CAEC</th><th>COD_DESCRIPCION_CAEC</th><th>GLS_DESCRIPCION_CAEC</th><th>SEXO_BENEFICIARIO</th><th>FECHA_NACIMIENTO</th><th>CANTIDADES_CARGA</th><th>HOLDING_PRESTADOR</th><th>TIPO_COBERTURA</th><th>DERIVADO_URGENCIA</th><th>CODIGO_PLAN_ISAPRE</th><th>GLOSA_PLAN_ISAPRE</th><th>PACTADO_FINAL</th><th>PACTADO_PLAN</th><th>COD_REGION</th><th>GLOSA_REGION</th><th>FECHA_INGRESO_ISAPRE</th><th>PERIODO_INGRESO_PLAN</th><th>FECHA_VIGENCIA_PLAN</th><th>FECHA_OCURRENCIA_GASTO</th><th>FECHA_REEMB_ISAPRE</th><th>COBRADO</th><th>BONIFICADO</th><th>DEDUCIBLE_CAEC</th><th>DEDUCIBLE_GES</th><th>MONTO_CAEC</th><th>COPAGO</th><th>RUT_PRESTADOR</th><th>NOMBRE_PRESTADOR</th><th>PRESTACION</th><th>SUB_TIPO_PRESTACION</th><th>GRUPO</th><th>SUBGRUPO</th><th>TIPO_BONO</th><th>GLS_TIPO_BONO</th><th>SOLICITUD_TRATAMIENTO</th><th>RUBRO</th><th>NOMBRE_RUBRO</th><th>ACTOR</th><th>NOMBRE_ACTOR</th><th>CODATE_DETALLE</th><th>GLS_CODATE_DETALLE</th><th>CODATE_TRAZADORA</th><th>GLS_CODATE_TRAZADORA</th><th>CODATE_TRAZADORA_2</th><th>GLS_CODATE_TRAZADORA_2</th><th>CODATE_TRAZADORA_3</th><th>GLS_CODATE_TRAZADORA_3</th></tr><tr><td>i64</td><td>str</td><td>i64</td><td>i64</td><td>i64</td><td>str</td><td>str</td><td>str</td><td>str</td><td>str</td><td>str</td><td>str</td><td>str</td><td>i64</td><td>str</td><td>str</td><td>str</td><td>i64</td><td>str</td><td>f64</td><td>f64</td><td>i64</td><td>str</td><td>str</td><td>f64</td><td>i64</td><td>str</td><td>str</td><td>i64</td><td>i64</td><td>str</td><td>i64</td><td>i64</td><td>i64</td><td>str</td><td>str</td><td>i64</td><td>str</td><td>str</td><td>str</td><td>i64</td><td>str</td><td>i64</td><td>f64</td><td>str</td><td>f64</td><td>str</td><td>i64</td><td>str</td><td>i64</td><td>str</td><td>i64</td><td>str</td><td>i64</td><td>str</td></tr></thead><tbody><tr><td>202304</td><td>&quot;1900-01-01 00:…</td><td>119557462</td><td>93000581</td><td>93000581</td><td>null</td><td>null</td><td>null</td><td>null</td><td>null</td><td>null</td><td>&quot;F&quot;</td><td>&quot;1995-09-02 00:…</td><td>0</td><td>&quot;BLANCO&quot;</td><td>&quot;AMBULATORIO&quot;</td><td>null</td><td>8289</td><td>&quot;ADRT5319&quot;</td><td>3.7</td><td>3.7</td><td>13</td><td>&quot;XIII REGION ME…</td><td>&quot;2020-02-24 00:…</td><td>202002.0</td><td>202004</td><td>&quot;1900-01-01 00:…</td><td>null</td><td>32660</td><td>26128</td><td>null</td><td>null</td><td>0</td><td>6532</td><td>&quot;087975900-5&quot;</td><td>&quot;CENTRO DIAGN P…</td><td>3</td><td>&quot;A&quot;</td><td>&quot;IMAGENOLOGIA&quot;</td><td>&quot;IMAGENOLOGIA&quot;</td><td>1</td><td>&quot;PLAN COMPLEMEN…</td><td>0</td><td>0.0</td><td>null</td><td>0.0</td><td>null</td><td>404003</td><td>&quot;ECOGRAFIA ABDO…</td><td>0</td><td>null</td><td>0</td><td>null</td><td>0</td><td>null</td></tr><tr><td>202304</td><td>&quot;1900-01-01 00:…</td><td>119557603</td><td>85287436</td><td>85287436</td><td>null</td><td>null</td><td>null</td><td>null</td><td>null</td><td>null</td><td>&quot;M&quot;</td><td>&quot;1991-02-07 00:…</td><td>0</td><td>&quot;BLANCO&quot;</td><td>&quot;AMBULATORIO&quot;</td><td>null</td><td>8520</td><td>&quot;BCCLTC1120&quot;</td><td>2.51</td><td>2.51</td><td>13</td><td>&quot;XIII REGION ME…</td><td>&quot;2018-03-29 00:…</td><td>202104.0</td><td>202106</td><td>&quot;1900-01-01 00:…</td><td>null</td><td>8160</td><td>8160</td><td>null</td><td>null</td><td>0</td><td>0</td><td>&quot;084655500-5&quot;</td><td>&quot;LABORATORIO CL…</td><td>2</td><td>&quot;A&quot;</td><td>&quot;EXAMENES&quot;</td><td>&quot;EXAMENES&quot;</td><td>1</td><td>&quot;PLAN COMPLEMEN…</td><td>0</td><td>0.0</td><td>null</td><td>0.0</td><td>null</td><td>302075</td><td>&quot;PERFIL BIOQUIM…</td><td>0</td><td>null</td><td>0</td><td>null</td><td>0</td><td>null</td></tr><tr><td>202304</td><td>&quot;1900-01-01 00:…</td><td>119557699</td><td>71892611</td><td>71892611</td><td>null</td><td>null</td><td>null</td><td>null</td><td>null</td><td>null</td><td>&quot;F&quot;</td><td>&quot;1982-05-28 00:…</td><td>0</td><td>&quot;BIOMET&quot;</td><td>&quot;AMBULATORIO&quot;</td><td>null</td><td>8410</td><td>&quot;JNC6120&quot;</td><td>3.84</td><td>3.84</td><td>2</td><td>&quot;II REGION DE A…</td><td>&quot;2017-08-30 00:…</td><td>202012.0</td><td>202102</td><td>&quot;1900-01-01 00:…</td><td>null</td><td>820</td><td>820</td><td>null</td><td>null</td><td>0</td><td>0</td><td>&quot;096951870-8&quot;</td><td>&quot;BIONET S.A.&quot;</td><td>2</td><td>&quot;A&quot;</td><td>&quot;EXAMENES&quot;</td><td>&quot;EXAMENES&quot;</td><td>1</td><td>&quot;PLAN COMPLEMEN…</td><td>0</td><td>0.0</td><td>null</td><td>0.0</td><td>null</td><td>307011</td><td>&quot;VENOSA EN ADUL…</td><td>0</td><td>null</td><td>0</td><td>null</td><td>0</td><td>null</td></tr><tr><td>202304</td><td>&quot;1900-01-01 00:…</td><td>119557718</td><td>86173251</td><td>86173251</td><td>null</td><td>null</td><td>null</td><td>null</td><td>null</td><td>null</td><td>&quot;M&quot;</td><td>&quot;1991-06-04 00:…</td><td>0</td><td>&quot;MEGASALUD&quot;</td><td>&quot;AMBULATORIO&quot;</td><td>null</td><td>8892</td><td>&quot;EBRO6122&quot;</td><td>3.56</td><td>3.56</td><td>13</td><td>&quot;XIII REGION ME…</td><td>&quot;2022-03-09 00:…</td><td>202203.0</td><td>202205</td><td>&quot;1900-01-01 00:…</td><td>null</td><td>40154</td><td>28108</td><td>null</td><td>null</td><td>0</td><td>12046</td><td>&quot;076110809-3&quot;</td><td>&quot;ARAUCO SALUD L…</td><td>1</td><td>&quot;A&quot;</td><td>&quot;CONSULTAS&quot;</td><td>&quot;CONSULTAS&quot;</td><td>1</td><td>&quot;PLAN COMPLEMEN…</td><td>0</td><td>0.0</td><td>null</td><td>0.0</td><td>null</td><td>30148</td><td>&quot;UROLOGIA  ADUL…</td><td>0</td><td>null</td><td>0</td><td>null</td><td>0</td><td>null</td></tr><tr><td>202304</td><td>&quot;1900-01-01 00:…</td><td>119557994</td><td>39361821</td><td>39361821</td><td>null</td><td>null</td><td>null</td><td>null</td><td>null</td><td>null</td><td>&quot;F&quot;</td><td>&quot;1975-06-20 00:…</td><td>0</td><td>&quot;LABORATORIO DE…</td><td>&quot;AMBULATORIO&quot;</td><td>null</td><td>3108</td><td>&quot;HO 708&quot;</td><td>3.39</td><td>3.39</td><td>12</td><td>&quot;XII REGION MAG…</td><td>&quot;2011-06-30 00:…</td><td>201106.0</td><td>201108</td><td>&quot;1900-01-01 00:…</td><td>null</td><td>1200</td><td>1200</td><td>null</td><td>null</td><td>0</td><td>0</td><td>&quot;076015091-6&quot;</td><td>&quot;LABORATORIO DE…</td><td>13</td><td>&quot;A&quot;</td><td>&quot;OTRAS&quot;</td><td>&quot;OTRAS&quot;</td><td>1</td><td>&quot;PLAN COMPLEMEN…</td><td>0</td><td>0.0</td><td>null</td><td>0.0</td><td>null</td><td>302367</td><td>&quot;COLESTEROL TOT…</td><td>0</td><td>null</td><td>0</td><td>null</td><td>0</td><td>null</td></tr></tbody></table></div>"
      ],
      "text/plain": [
       "shape: (5, 55)\n",
       "┌──────────────┬──────────────┬────────────┬──────────────┬───┬──────────────┬─────────────┬─────────────┬─────────────┐\n",
       "│ PERIODO_PRES ┆ FECHA_DIGITA ┆ FOLIO_BONO ┆ ID_RUT_TITUL ┆ … ┆ CODATE_TRAZA ┆ GLS_CODATE_ ┆ CODATE_TRAZ ┆ GLS_CODATE_ │\n",
       "│ TACION       ┆ CION         ┆ ---        ┆ AR           ┆   ┆ DORA_2       ┆ TRAZADORA_2 ┆ ADORA_3     ┆ TRAZADORA_3 │\n",
       "│ ---          ┆ ---          ┆ i64        ┆ ---          ┆   ┆ ---          ┆ ---         ┆ ---         ┆ ---         │\n",
       "│ i64          ┆ str          ┆            ┆ i64          ┆   ┆ i64          ┆ str         ┆ i64         ┆ str         │\n",
       "╞══════════════╪══════════════╪════════════╪══════════════╪═══╪══════════════╪═════════════╪═════════════╪═════════════╡\n",
       "│ 202304       ┆ 1900-01-01   ┆ 119557462  ┆ 93000581     ┆ … ┆ 0            ┆ null        ┆ 0           ┆ null        │\n",
       "│              ┆ 00:00:00.000 ┆            ┆              ┆   ┆              ┆             ┆             ┆             │\n",
       "│ 202304       ┆ 1900-01-01   ┆ 119557603  ┆ 85287436     ┆ … ┆ 0            ┆ null        ┆ 0           ┆ null        │\n",
       "│              ┆ 00:00:00.000 ┆            ┆              ┆   ┆              ┆             ┆             ┆             │\n",
       "│ 202304       ┆ 1900-01-01   ┆ 119557699  ┆ 71892611     ┆ … ┆ 0            ┆ null        ┆ 0           ┆ null        │\n",
       "│              ┆ 00:00:00.000 ┆            ┆              ┆   ┆              ┆             ┆             ┆             │\n",
       "│ 202304       ┆ 1900-01-01   ┆ 119557718  ┆ 86173251     ┆ … ┆ 0            ┆ null        ┆ 0           ┆ null        │\n",
       "│              ┆ 00:00:00.000 ┆            ┆              ┆   ┆              ┆             ┆             ┆             │\n",
       "│ 202304       ┆ 1900-01-01   ┆ 119557994  ┆ 39361821     ┆ … ┆ 0            ┆ null        ┆ 0           ┆ null        │\n",
       "│              ┆ 00:00:00.000 ┆            ┆              ┆   ┆              ┆             ┆             ┆             │\n",
       "└──────────────┴──────────────┴────────────┴──────────────┴───┴──────────────┴─────────────┴─────────────┴─────────────┘"
      ]
     },
     "execution_count": 12,
     "metadata": {},
     "output_type": "execute_result"
    }
   ],
   "source": [
    "df.head()"
   ]
  },
  {
   "cell_type": "markdown",
   "id": "47bd0839",
   "metadata": {},
   "source": [
    "#### La principal ventaja de trabajar con las Polars Expressions es poder concatenarlas dentro de un solo bloque de código. Abajo, vamos a crear una función de preprocesado para ejemplificar esta secuencia de tareas:\n"
   ]
  },
  {
   "cell_type": "code",
   "execution_count": 13,
   "id": "c82f88a4",
   "metadata": {},
   "outputs": [
    {
     "data": {
      "text/html": [
       "<div><style>\n",
       ".dataframe > thead > tr,\n",
       ".dataframe > tbody > tr {\n",
       "  text-align: right;\n",
       "  white-space: pre-wrap;\n",
       "}\n",
       "</style>\n",
       "<small>shape: (5, 8)</small><table border=\"1\" class=\"dataframe\"><thead><tr><th>sexo_benef</th><th>nro_cargas</th><th>fecha_cumple</th><th>cobrado</th><th>bonificado</th><th>grupo</th><th>TOTAL</th><th>fecha_ejecucion</th></tr><tr><td>str</td><td>i64</td><td>str</td><td>i64</td><td>i64</td><td>str</td><td>i64</td><td>date</td></tr></thead><tbody><tr><td>&quot;M&quot;</td><td>0</td><td>&quot;1991-02-07 00:…</td><td>8160</td><td>8160</td><td>&quot;EXAMENES&quot;</td><td>16320</td><td>2024-02-14</td></tr><tr><td>&quot;F&quot;</td><td>0</td><td>&quot;1982-05-28 00:…</td><td>820</td><td>820</td><td>&quot;EXAMENES&quot;</td><td>1640</td><td>2024-02-14</td></tr><tr><td>&quot;M&quot;</td><td>0</td><td>&quot;1991-06-04 00:…</td><td>40154</td><td>28108</td><td>&quot;CONSULTAS&quot;</td><td>68262</td><td>2024-02-14</td></tr><tr><td>&quot;M&quot;</td><td>1</td><td>&quot;1984-10-14 00:…</td><td>1310</td><td>771</td><td>&quot;EXAMENES&quot;</td><td>2081</td><td>2024-02-14</td></tr><tr><td>&quot;F&quot;</td><td>1</td><td>&quot;1961-12-31 00:…</td><td>7921</td><td>5545</td><td>&quot;EXAMENES&quot;</td><td>13466</td><td>2024-02-14</td></tr></tbody></table></div>"
      ],
      "text/plain": [
       "shape: (5, 8)\n",
       "┌────────────┬────────────┬─────────────────────────┬─────────┬────────────┬───────────┬───────┬─────────────────┐\n",
       "│ sexo_benef ┆ nro_cargas ┆ fecha_cumple            ┆ cobrado ┆ bonificado ┆ grupo     ┆ TOTAL ┆ fecha_ejecucion │\n",
       "│ ---        ┆ ---        ┆ ---                     ┆ ---     ┆ ---        ┆ ---       ┆ ---   ┆ ---             │\n",
       "│ str        ┆ i64        ┆ str                     ┆ i64     ┆ i64        ┆ str       ┆ i64   ┆ date            │\n",
       "╞════════════╪════════════╪═════════════════════════╪═════════╪════════════╪═══════════╪═══════╪═════════════════╡\n",
       "│ M          ┆ 0          ┆ 1991-02-07 00:00:00.000 ┆ 8160    ┆ 8160       ┆ EXAMENES  ┆ 16320 ┆ 2024-02-14      │\n",
       "│ F          ┆ 0          ┆ 1982-05-28 00:00:00.000 ┆ 820     ┆ 820        ┆ EXAMENES  ┆ 1640  ┆ 2024-02-14      │\n",
       "│ M          ┆ 0          ┆ 1991-06-04 00:00:00.000 ┆ 40154   ┆ 28108      ┆ CONSULTAS ┆ 68262 ┆ 2024-02-14      │\n",
       "│ M          ┆ 1          ┆ 1984-10-14 00:00:00.000 ┆ 1310    ┆ 771        ┆ EXAMENES  ┆ 2081  ┆ 2024-02-14      │\n",
       "│ F          ┆ 1          ┆ 1961-12-31 00:00:00.000 ┆ 7921    ┆ 5545       ┆ EXAMENES  ┆ 13466 ┆ 2024-02-14      │\n",
       "└────────────┴────────────┴─────────────────────────┴─────────┴────────────┴───────────┴───────┴─────────────────┘"
      ]
     },
     "metadata": {},
     "output_type": "display_data"
    }
   ],
   "source": [
    "# Función de preprocesado\n",
    "# ==============================================================================\n",
    "def agrupado_funciones(raw_data):\n",
    "    df_funciones_agrupadas=raw_data.select([\n",
    "                pl.col('SEXO_BENEFICIARIO').alias('sexo_benef'),\n",
    "                pl.col('CANTIDADES_CARGA').alias('nro_cargas'),\n",
    "                pl.col('FECHA_NACIMIENTO').alias('fecha_cumple'), pl.col('COBRADO').alias('cobrado'),\n",
    "                pl.col('BONIFICADO').alias('bonificado'),\n",
    "                pl.col('GRUPO').alias('grupo')]).with_columns([\n",
    "                (pl.col('cobrado')+pl.col('bonificado')).alias('TOTAL'),\n",
    "                (pl.lit(datetime.now().date()).alias('fecha_ejecucion')),]).filter((pl.col('grupo') == 'EXAMENES') | (pl.col('grupo') == 'CONSULTAS'))\n",
    "\n",
    "    return df_funciones_agrupadas\n",
    "df_procesado=agrupado_funciones(raw_data=df)\n",
    "display(df_procesado.head())"
   ]
  },
  {
   "cell_type": "markdown",
   "id": "4af7f7dd",
   "metadata": {},
   "source": [
    "### Lazy evaluation\n",
    "Hasta el momento, todo lo que hemos ejecutado en nuestro DataFrame (df:polars.DataFrame) se ejecutó en modo Eager, es decir, de manera instantánea de acuerdo con lo que hemos definido en las celdas, tal cómo ocurriría si fuera un DataFrame de Pandas.\n",
    "\n",
    "Sin embargo, Polars también tiene una forma Lazy para evaluar/ejecutar las instrucciones de código. Esta forma Lazy permite a Polars evaluar la sintaxis de nuestro código/expresión, optimizarla y finalmente ejecutarla dentro de su engine. Esto permite, en general, mejorar aún más el rendimiento y optimizar el uso de la memoria. En modo Lazy, Polars crea y realiza un seguimiento de nuestro código en un plan lógico donde es capaz de optimizar y reordenar cada tarea antes de ejecutarlo. Vamos ahora a explorar un poco el universo de las Lazy Evaluations."
   ]
  },
  {
   "cell_type": "code",
   "execution_count": 14,
   "id": "35e19e98",
   "metadata": {},
   "outputs": [
    {
     "name": "stdout",
     "output_type": "stream",
     "text": [
      "Object type: <class 'polars.lazyframe.frame.LazyFrame'>\n"
     ]
    }
   ],
   "source": [
    "lazy_df = df.lazy()\n",
    "print(f\"Object type: {type(lazy_df)}\")"
   ]
  },
  {
   "cell_type": "code",
   "execution_count": 15,
   "id": "3b9f8f2b",
   "metadata": {},
   "outputs": [
    {
     "ename": "AttributeError",
     "evalue": "'LazyFrame' object has no attribute 'shape'",
     "output_type": "error",
     "traceback": [
      "\u001b[1;31m---------------------------------------------------------------------------\u001b[0m",
      "\u001b[1;31mAttributeError\u001b[0m                            Traceback (most recent call last)",
      "Cell \u001b[1;32mIn[15], line 1\u001b[0m\n\u001b[1;32m----> 1\u001b[0m \u001b[38;5;28mprint\u001b[39m(lazy_df\u001b[38;5;241m.\u001b[39mshape)\n",
      "\u001b[1;31mAttributeError\u001b[0m: 'LazyFrame' object has no attribute 'shape'"
     ]
    }
   ],
   "source": [
    "print(lazy_df.shape)"
   ]
  },
  {
   "cell_type": "code",
   "execution_count": 16,
   "id": "29016647",
   "metadata": {},
   "outputs": [
    {
     "name": "stdout",
     "output_type": "stream",
     "text": [
      "naive plan: (run LazyFrame.explain(optimized=True) to see the optimized plan)\n",
      "\n",
      "DF [\"PERIODO_PRESTACION\", \"FECHA_DIGITACION\", \"FOLIO_BONO\", \"ID_RUT_TITULAR\"]; PROJECT */55 COLUMNS; SELECTION: \"None\"\n"
     ]
    }
   ],
   "source": [
    "print(lazy_df)"
   ]
  },
  {
   "cell_type": "markdown",
   "id": "ffe5dd43",
   "metadata": {},
   "source": [
    "En primer lugar hemos creado un polars.LazyFrame a partir de nuestro polars.DataFrame inicial a través del método .lazy().\n",
    "\n",
    "Un LazyFrame es un objeto sobre el cual Polars es capaz de crear un plan de ejecución y optimizar queries, volviendo así más eficiente el proceso de transformación y manipulación de los datos.\n",
    "\n",
    "Existen también maneras de realizar una lectura de datos en modo Lazy directamente, como por ejemplo: pl.scan_csv, pl.scan_parquet, etc.\n",
    "\n",
    "Al intentar mostrar el shape de nuestro lazy dataframe se obtiene un error porque no todos los métodos disponibles para los polars.DataFrame están disponibles también para polars.LazyFrame, entre ellos el .shape()\n",
    "\n",
    "Al llamar a nuestro polars.LazyFrame directamente, lo que nos devuelve es el plan de ejecución de datos. En este caso, no está haciendo nada en especial ya que solamente estamos cargando los datos. Pero es importante entender que, a medida que vamos trabajando con este DataFrame, el plan de ejecución también va cambiando y cuando necesitemos ejecutarlo, Polars es capaz de optimizarlo y paralelizar la ejecución de las tareas siempre que sea posible.\n",
    "\n",
    "Vamos ahora llamar a la misma función de preprocesado pero utilizando nuestro polars.LazyFrame:"
   ]
  },
  {
   "cell_type": "code",
   "execution_count": 17,
   "id": "43e279ed",
   "metadata": {},
   "outputs": [
    {
     "data": {
      "text/html": [
       "<i>naive plan: (run <b>LazyFrame.explain(optimized=True)</b> to see the optimized plan)</i>\n",
       "    <p></p>\n",
       "    <div>FILTER [([(col(\"grupo\")) == (String(EXAMENES))]) | ([(col(\"grupo\")) == (String(CONSULTAS))])] FROM<p></p> WITH_COLUMNS:<p></p> [[(col(\"cobrado\")) + (col(\"bonificado\"))].alias(\"TOTAL\"), 1707868800000000.strict_cast(Datetime(Microseconds, None)).strict_cast(Date).alias(\"fecha_ejecucion\")]<p></p>   SELECT [col(\"SEXO_BENEFICIARIO\").alias(\"sexo_benef\"), col(\"CANTIDADES_CARGA\").alias(\"nro_cargas\"), col(\"FECHA_NACIMIENTO\").alias(\"fecha_cumple\"), col(\"COBRADO\").alias(\"cobrado\"), col(\"BONIFICADO\").alias(\"bonificado\"), col(\"GRUPO\").alias(\"grupo\")] FROM<p></p>    DF [\"PERIODO_PRESTACION\", \"FECHA_DIGITACION\", \"FOLIO_BONO\", \"ID_RUT_TITULAR\"]; PROJECT */55 COLUMNS; SELECTION: \"None\"</div>"
      ],
      "text/plain": [
       "<LazyFrame [8 cols, {\"sexo_benef\": String … \"fecha_ejecucion\": Date}] at 0x21D32D69510>"
      ]
     },
     "execution_count": 17,
     "metadata": {},
     "output_type": "execute_result"
    }
   ],
   "source": [
    "lazy_procesado_df = agrupado_funciones(raw_data=lazy_df)\n",
    "lazy_procesado_df"
   ]
  },
  {
   "cell_type": "code",
   "execution_count": 18,
   "id": "3f2b98a6",
   "metadata": {},
   "outputs": [
    {
     "data": {
      "text/plain": [
       "' WITH_COLUMNS:\\n [[(col(\"cobrado\")) + (col(\"bonificado\"))].alias(\"TOTAL\"), 2024-02-14.alias(\"fecha_ejecucion\")]\\n   SELECT [col(\"SEXO_BENEFICIARIO\").alias(\"sexo_benef\"), col(\"CANTIDADES_CARGA\").alias(\"nro_cargas\"), col(\"FECHA_NACIMIENTO\").alias(\"fecha_cumple\"), col(\"COBRADO\").alias(\"cobrado\"), col(\"BONIFICADO\").alias(\"bonificado\"), col(\"GRUPO\").alias(\"grupo\")] FROM\\n    DF [\"PERIODO_PRESTACION\", \"FECHA_DIGITACION\", \"FOLIO_BONO\", \"ID_RUT_TITULAR\"]; PROJECT 6/55 COLUMNS; SELECTION: \"[([(col(\\\\\"GRUPO\\\\\")) == (String(EXAMENES))]) | ([(col(\\\\\"GRUPO\\\\\")) == (String(CONSULTAS))])]\"'"
      ]
     },
     "execution_count": 18,
     "metadata": {},
     "output_type": "execute_result"
    }
   ],
   "source": [
    "#Muestra el lazy_procesado_df optimizado\n",
    "\n",
    "lazy_procesado_df.explain(optimized=True) "
   ]
  },
  {
   "cell_type": "markdown",
   "id": "ca991150",
   "metadata": {},
   "source": [
    "##### Nuestra función se ha ejecutado sin problemas y nos ha devuelto otro objeto LazyFrame. Al intentar visualizar este objeto, cómo ya sabemos, nos salta su plan de ejecución no optimizado (NAIVE QUERY PLAN). Podemos visualizar los planes de ejecución (NAIVE QUERY PLAN/OPTIMIZED QUERY PLAN) de nuestro DataFrame a través del método: lazy_procesado_df.show_graph()"
   ]
  },
  {
   "cell_type": "code",
   "execution_count": 21,
   "id": "b6136009",
   "metadata": {},
   "outputs": [],
   "source": [
    "#lazy_procesado_df.show_graph()"
   ]
  },
  {
   "cell_type": "markdown",
   "id": "5c0c0ba5",
   "metadata": {},
   "source": [
    "###### Si en algún momento de nuestro +pipeline+ necesitamos realmente visualizar el pl.LazyDataFrame con sus datos, podemos utilizar métodos como collect() y fetch() que nos van a retornar un pl.DataFrame. El método fetch() es muy indicado para hacer debugging ya que es una operación rápida y que limita el número final de filas devueltas."
   ]
  },
  {
   "cell_type": "code",
   "execution_count": 22,
   "id": "99c87c1b",
   "metadata": {},
   "outputs": [
    {
     "name": "stdout",
     "output_type": "stream",
     "text": [
      "<class 'polars.dataframe.frame.DataFrame'>\n"
     ]
    },
    {
     "data": {
      "text/html": [
       "<div><style>\n",
       ".dataframe > thead > tr,\n",
       ".dataframe > tbody > tr {\n",
       "  text-align: right;\n",
       "  white-space: pre-wrap;\n",
       "}\n",
       "</style>\n",
       "<small>shape: (20, 8)</small><table border=\"1\" class=\"dataframe\"><thead><tr><th>sexo_benef</th><th>nro_cargas</th><th>fecha_cumple</th><th>cobrado</th><th>bonificado</th><th>grupo</th><th>TOTAL</th><th>fecha_ejecucion</th></tr><tr><td>str</td><td>i64</td><td>str</td><td>i64</td><td>i64</td><td>str</td><td>i64</td><td>date</td></tr></thead><tbody><tr><td>&quot;M&quot;</td><td>0</td><td>&quot;1991-02-07 00:…</td><td>8160</td><td>8160</td><td>&quot;EXAMENES&quot;</td><td>16320</td><td>2024-02-14</td></tr><tr><td>&quot;F&quot;</td><td>0</td><td>&quot;1982-05-28 00:…</td><td>820</td><td>820</td><td>&quot;EXAMENES&quot;</td><td>1640</td><td>2024-02-14</td></tr><tr><td>&quot;M&quot;</td><td>0</td><td>&quot;1991-06-04 00:…</td><td>40154</td><td>28108</td><td>&quot;CONSULTAS&quot;</td><td>68262</td><td>2024-02-14</td></tr><tr><td>&quot;M&quot;</td><td>1</td><td>&quot;1984-10-14 00:…</td><td>1310</td><td>771</td><td>&quot;EXAMENES&quot;</td><td>2081</td><td>2024-02-14</td></tr><tr><td>&quot;F&quot;</td><td>1</td><td>&quot;1961-12-31 00:…</td><td>7921</td><td>5545</td><td>&quot;EXAMENES&quot;</td><td>13466</td><td>2024-02-14</td></tr><tr><td>&quot;M&quot;</td><td>3</td><td>&quot;1972-09-30 00:…</td><td>5700</td><td>4560</td><td>&quot;EXAMENES&quot;</td><td>10260</td><td>2024-02-14</td></tr><tr><td>&quot;F&quot;</td><td>1</td><td>&quot;1979-05-27 00:…</td><td>4870</td><td>4870</td><td>&quot;EXAMENES&quot;</td><td>9740</td><td>2024-02-14</td></tr><tr><td>&quot;F&quot;</td><td>0</td><td>&quot;1987-05-23 00:…</td><td>5540</td><td>3918</td><td>&quot;EXAMENES&quot;</td><td>9458</td><td>2024-02-14</td></tr><tr><td>&quot;M&quot;</td><td>0</td><td>&quot;1990-10-19 00:…</td><td>71464</td><td>64318</td><td>&quot;CONSULTAS&quot;</td><td>135782</td><td>2024-02-14</td></tr><tr><td>&quot;F&quot;</td><td>0</td><td>&quot;1987-09-14 00:…</td><td>62112</td><td>43478</td><td>&quot;CONSULTAS&quot;</td><td>105590</td><td>2024-02-14</td></tr><tr><td>&quot;F&quot;</td><td>0</td><td>&quot;1983-03-12 00:…</td><td>9589</td><td>8630</td><td>&quot;EXAMENES&quot;</td><td>18219</td><td>2024-02-14</td></tr><tr><td>&quot;F&quot;</td><td>1</td><td>&quot;1978-11-06 00:…</td><td>19880</td><td>6266</td><td>&quot;EXAMENES&quot;</td><td>26146</td><td>2024-02-14</td></tr><tr><td>&quot;M&quot;</td><td>0</td><td>&quot;1989-10-07 00:…</td><td>1310</td><td>1179</td><td>&quot;EXAMENES&quot;</td><td>2489</td><td>2024-02-14</td></tr><tr><td>&quot;F&quot;</td><td>0</td><td>&quot;1992-09-10 00:…</td><td>10893</td><td>6536</td><td>&quot;EXAMENES&quot;</td><td>17429</td><td>2024-02-14</td></tr><tr><td>&quot;F&quot;</td><td>0</td><td>&quot;1993-04-27 00:…</td><td>7013</td><td>5610</td><td>&quot;EXAMENES&quot;</td><td>12623</td><td>2024-02-14</td></tr><tr><td>&quot;F&quot;</td><td>0</td><td>&quot;1988-01-21 00:…</td><td>64484</td><td>58036</td><td>&quot;CONSULTAS&quot;</td><td>122520</td><td>2024-02-14</td></tr><tr><td>&quot;F&quot;</td><td>2</td><td>&quot;1963-03-15 00:…</td><td>6770</td><td>4672</td><td>&quot;EXAMENES&quot;</td><td>11442</td><td>2024-02-14</td></tr><tr><td>&quot;M&quot;</td><td>1</td><td>&quot;2004-05-03 00:…</td><td>23691</td><td>7875</td><td>&quot;EXAMENES&quot;</td><td>31566</td><td>2024-02-14</td></tr><tr><td>&quot;M&quot;</td><td>1</td><td>&quot;1966-01-17 00:…</td><td>7650</td><td>6120</td><td>&quot;EXAMENES&quot;</td><td>13770</td><td>2024-02-14</td></tr><tr><td>&quot;M&quot;</td><td>2</td><td>&quot;2003-11-19 00:…</td><td>71464</td><td>50025</td><td>&quot;CONSULTAS&quot;</td><td>121489</td><td>2024-02-14</td></tr></tbody></table></div>"
      ],
      "text/plain": [
       "shape: (20, 8)\n",
       "┌────────────┬────────────┬─────────────────────────┬─────────┬────────────┬───────────┬────────┬─────────────────┐\n",
       "│ sexo_benef ┆ nro_cargas ┆ fecha_cumple            ┆ cobrado ┆ bonificado ┆ grupo     ┆ TOTAL  ┆ fecha_ejecucion │\n",
       "│ ---        ┆ ---        ┆ ---                     ┆ ---     ┆ ---        ┆ ---       ┆ ---    ┆ ---             │\n",
       "│ str        ┆ i64        ┆ str                     ┆ i64     ┆ i64        ┆ str       ┆ i64    ┆ date            │\n",
       "╞════════════╪════════════╪═════════════════════════╪═════════╪════════════╪═══════════╪════════╪═════════════════╡\n",
       "│ M          ┆ 0          ┆ 1991-02-07 00:00:00.000 ┆ 8160    ┆ 8160       ┆ EXAMENES  ┆ 16320  ┆ 2024-02-14      │\n",
       "│ F          ┆ 0          ┆ 1982-05-28 00:00:00.000 ┆ 820     ┆ 820        ┆ EXAMENES  ┆ 1640   ┆ 2024-02-14      │\n",
       "│ M          ┆ 0          ┆ 1991-06-04 00:00:00.000 ┆ 40154   ┆ 28108      ┆ CONSULTAS ┆ 68262  ┆ 2024-02-14      │\n",
       "│ M          ┆ 1          ┆ 1984-10-14 00:00:00.000 ┆ 1310    ┆ 771        ┆ EXAMENES  ┆ 2081   ┆ 2024-02-14      │\n",
       "│ F          ┆ 1          ┆ 1961-12-31 00:00:00.000 ┆ 7921    ┆ 5545       ┆ EXAMENES  ┆ 13466  ┆ 2024-02-14      │\n",
       "│ …          ┆ …          ┆ …                       ┆ …       ┆ …          ┆ …         ┆ …      ┆ …               │\n",
       "│ F          ┆ 0          ┆ 1988-01-21 00:00:00.000 ┆ 64484   ┆ 58036      ┆ CONSULTAS ┆ 122520 ┆ 2024-02-14      │\n",
       "│ F          ┆ 2          ┆ 1963-03-15 00:00:00.000 ┆ 6770    ┆ 4672       ┆ EXAMENES  ┆ 11442  ┆ 2024-02-14      │\n",
       "│ M          ┆ 1          ┆ 2004-05-03 00:00:00.000 ┆ 23691   ┆ 7875       ┆ EXAMENES  ┆ 31566  ┆ 2024-02-14      │\n",
       "│ M          ┆ 1          ┆ 1966-01-17 00:00:00.000 ┆ 7650    ┆ 6120       ┆ EXAMENES  ┆ 13770  ┆ 2024-02-14      │\n",
       "│ M          ┆ 2          ┆ 2003-11-19 00:00:00.000 ┆ 71464   ┆ 50025      ┆ CONSULTAS ┆ 121489 ┆ 2024-02-14      │\n",
       "└────────────┴────────────┴─────────────────────────┴─────────┴────────────┴───────────┴────────┴─────────────────┘"
      ]
     },
     "execution_count": 22,
     "metadata": {},
     "output_type": "execute_result"
    }
   ],
   "source": [
    "# .fetch(): devuelve un número limitado de líneas para hacer debugging\n",
    "# ==============================================================================\n",
    "print(type(lazy_procesado_df.fetch(20)))\n",
    "lazy_procesado_df.fetch(20)"
   ]
  },
  {
   "cell_type": "code",
   "execution_count": 23,
   "id": "ca75dca7",
   "metadata": {},
   "outputs": [
    {
     "name": "stdout",
     "output_type": "stream",
     "text": [
      "<class 'polars.dataframe.frame.DataFrame'>\n"
     ]
    },
    {
     "data": {
      "text/html": [
       "<div><style>\n",
       ".dataframe > thead > tr,\n",
       ".dataframe > tbody > tr {\n",
       "  text-align: right;\n",
       "  white-space: pre-wrap;\n",
       "}\n",
       "</style>\n",
       "<small>shape: (4_488_142, 8)</small><table border=\"1\" class=\"dataframe\"><thead><tr><th>sexo_benef</th><th>nro_cargas</th><th>fecha_cumple</th><th>cobrado</th><th>bonificado</th><th>grupo</th><th>TOTAL</th><th>fecha_ejecucion</th></tr><tr><td>str</td><td>i64</td><td>str</td><td>i64</td><td>i64</td><td>str</td><td>i64</td><td>date</td></tr></thead><tbody><tr><td>&quot;M&quot;</td><td>0</td><td>&quot;1991-02-07 00:…</td><td>8160</td><td>8160</td><td>&quot;EXAMENES&quot;</td><td>16320</td><td>2024-02-14</td></tr><tr><td>&quot;F&quot;</td><td>0</td><td>&quot;1982-05-28 00:…</td><td>820</td><td>820</td><td>&quot;EXAMENES&quot;</td><td>1640</td><td>2024-02-14</td></tr><tr><td>&quot;M&quot;</td><td>0</td><td>&quot;1991-06-04 00:…</td><td>40154</td><td>28108</td><td>&quot;CONSULTAS&quot;</td><td>68262</td><td>2024-02-14</td></tr><tr><td>&quot;M&quot;</td><td>1</td><td>&quot;1984-10-14 00:…</td><td>1310</td><td>771</td><td>&quot;EXAMENES&quot;</td><td>2081</td><td>2024-02-14</td></tr><tr><td>&quot;F&quot;</td><td>1</td><td>&quot;1961-12-31 00:…</td><td>7921</td><td>5545</td><td>&quot;EXAMENES&quot;</td><td>13466</td><td>2024-02-14</td></tr><tr><td>&quot;M&quot;</td><td>3</td><td>&quot;1972-09-30 00:…</td><td>5700</td><td>4560</td><td>&quot;EXAMENES&quot;</td><td>10260</td><td>2024-02-14</td></tr><tr><td>&quot;F&quot;</td><td>1</td><td>&quot;1979-05-27 00:…</td><td>4870</td><td>4870</td><td>&quot;EXAMENES&quot;</td><td>9740</td><td>2024-02-14</td></tr><tr><td>&quot;F&quot;</td><td>0</td><td>&quot;1987-05-23 00:…</td><td>5540</td><td>3918</td><td>&quot;EXAMENES&quot;</td><td>9458</td><td>2024-02-14</td></tr><tr><td>&quot;M&quot;</td><td>0</td><td>&quot;1990-10-19 00:…</td><td>71464</td><td>64318</td><td>&quot;CONSULTAS&quot;</td><td>135782</td><td>2024-02-14</td></tr><tr><td>&quot;F&quot;</td><td>0</td><td>&quot;1987-09-14 00:…</td><td>62112</td><td>43478</td><td>&quot;CONSULTAS&quot;</td><td>105590</td><td>2024-02-14</td></tr><tr><td>&quot;F&quot;</td><td>0</td><td>&quot;1983-03-12 00:…</td><td>9589</td><td>8630</td><td>&quot;EXAMENES&quot;</td><td>18219</td><td>2024-02-14</td></tr><tr><td>&quot;F&quot;</td><td>1</td><td>&quot;1978-11-06 00:…</td><td>19880</td><td>6266</td><td>&quot;EXAMENES&quot;</td><td>26146</td><td>2024-02-14</td></tr><tr><td>&hellip;</td><td>&hellip;</td><td>&hellip;</td><td>&hellip;</td><td>&hellip;</td><td>&hellip;</td><td>&hellip;</td><td>&hellip;</td></tr><tr><td>&quot;F&quot;</td><td>0</td><td>&quot;1991-05-08 00:…</td><td>43697</td><td>16009</td><td>&quot;CONSULTAS&quot;</td><td>59706</td><td>2024-02-14</td></tr><tr><td>&quot;M&quot;</td><td>0</td><td>&quot;1975-05-30 00:…</td><td>28945</td><td>23124</td><td>&quot;CONSULTAS&quot;</td><td>52069</td><td>2024-02-14</td></tr><tr><td>&quot;F&quot;</td><td>0</td><td>&quot;1966-08-20 00:…</td><td>25014</td><td>22513</td><td>&quot;CONSULTAS&quot;</td><td>47527</td><td>2024-02-14</td></tr><tr><td>&quot;F&quot;</td><td>0</td><td>&quot;1993-05-01 00:…</td><td>37773</td><td>16009</td><td>&quot;CONSULTAS&quot;</td><td>53782</td><td>2024-02-14</td></tr><tr><td>&quot;F&quot;</td><td>3</td><td>&quot;2017-04-27 00:…</td><td>15000</td><td>12000</td><td>&quot;CONSULTAS&quot;</td><td>27000</td><td>2024-02-14</td></tr><tr><td>&quot;M&quot;</td><td>3</td><td>&quot;1955-06-04 00:…</td><td>5482</td><td>1613</td><td>&quot;EXAMENES&quot;</td><td>7095</td><td>2024-02-14</td></tr><tr><td>&quot;F&quot;</td><td>0</td><td>&quot;1978-12-13 00:…</td><td>30903</td><td>16915</td><td>&quot;EXAMENES&quot;</td><td>47818</td><td>2024-02-14</td></tr><tr><td>&quot;M&quot;</td><td>3</td><td>&quot;2017-06-23 00:…</td><td>40000</td><td>28000</td><td>&quot;CONSULTAS&quot;</td><td>68000</td><td>2024-02-14</td></tr><tr><td>&quot;F&quot;</td><td>1</td><td>&quot;1948-08-30 00:…</td><td>47945</td><td>21345</td><td>&quot;CONSULTAS&quot;</td><td>69290</td><td>2024-02-14</td></tr><tr><td>&quot;F&quot;</td><td>1</td><td>&quot;1989-10-25 00:…</td><td>48930</td><td>42691</td><td>&quot;CONSULTAS&quot;</td><td>91621</td><td>2024-02-14</td></tr><tr><td>&quot;F&quot;</td><td>0</td><td>&quot;1996-05-12 00:…</td><td>27000</td><td>17788</td><td>&quot;CONSULTAS&quot;</td><td>44788</td><td>2024-02-14</td></tr><tr><td>&quot;M&quot;</td><td>1</td><td>&quot;1956-09-21 00:…</td><td>60000</td><td>27698</td><td>&quot;CONSULTAS&quot;</td><td>87698</td><td>2024-02-14</td></tr></tbody></table></div>"
      ],
      "text/plain": [
       "shape: (4_488_142, 8)\n",
       "┌────────────┬────────────┬─────────────────────────┬─────────┬────────────┬───────────┬───────┬─────────────────┐\n",
       "│ sexo_benef ┆ nro_cargas ┆ fecha_cumple            ┆ cobrado ┆ bonificado ┆ grupo     ┆ TOTAL ┆ fecha_ejecucion │\n",
       "│ ---        ┆ ---        ┆ ---                     ┆ ---     ┆ ---        ┆ ---       ┆ ---   ┆ ---             │\n",
       "│ str        ┆ i64        ┆ str                     ┆ i64     ┆ i64        ┆ str       ┆ i64   ┆ date            │\n",
       "╞════════════╪════════════╪═════════════════════════╪═════════╪════════════╪═══════════╪═══════╪═════════════════╡\n",
       "│ M          ┆ 0          ┆ 1991-02-07 00:00:00.000 ┆ 8160    ┆ 8160       ┆ EXAMENES  ┆ 16320 ┆ 2024-02-14      │\n",
       "│ F          ┆ 0          ┆ 1982-05-28 00:00:00.000 ┆ 820     ┆ 820        ┆ EXAMENES  ┆ 1640  ┆ 2024-02-14      │\n",
       "│ M          ┆ 0          ┆ 1991-06-04 00:00:00.000 ┆ 40154   ┆ 28108      ┆ CONSULTAS ┆ 68262 ┆ 2024-02-14      │\n",
       "│ M          ┆ 1          ┆ 1984-10-14 00:00:00.000 ┆ 1310    ┆ 771        ┆ EXAMENES  ┆ 2081  ┆ 2024-02-14      │\n",
       "│ F          ┆ 1          ┆ 1961-12-31 00:00:00.000 ┆ 7921    ┆ 5545       ┆ EXAMENES  ┆ 13466 ┆ 2024-02-14      │\n",
       "│ …          ┆ …          ┆ …                       ┆ …       ┆ …          ┆ …         ┆ …     ┆ …               │\n",
       "│ M          ┆ 3          ┆ 2017-06-23 00:00:00.000 ┆ 40000   ┆ 28000      ┆ CONSULTAS ┆ 68000 ┆ 2024-02-14      │\n",
       "│ F          ┆ 1          ┆ 1948-08-30 00:00:00.000 ┆ 47945   ┆ 21345      ┆ CONSULTAS ┆ 69290 ┆ 2024-02-14      │\n",
       "│ F          ┆ 1          ┆ 1989-10-25 00:00:00.000 ┆ 48930   ┆ 42691      ┆ CONSULTAS ┆ 91621 ┆ 2024-02-14      │\n",
       "│ F          ┆ 0          ┆ 1996-05-12 00:00:00.000 ┆ 27000   ┆ 17788      ┆ CONSULTAS ┆ 44788 ┆ 2024-02-14      │\n",
       "│ M          ┆ 1          ┆ 1956-09-21 00:00:00.000 ┆ 60000   ┆ 27698      ┆ CONSULTAS ┆ 87698 ┆ 2024-02-14      │\n",
       "└────────────┴────────────┴─────────────────────────┴─────────┴────────────┴───────────┴───────┴─────────────────┘"
      ]
     },
     "execution_count": 23,
     "metadata": {},
     "output_type": "execute_result"
    }
   ],
   "source": [
    "# .collect(): devuelve todo el DataFrame\n",
    "# ==============================================================================\n",
    "print(type(lazy_procesado_df.collect()))\n",
    "lazy_procesado_df.collect()"
   ]
  },
  {
   "cell_type": "markdown",
   "id": "0a7b0783",
   "metadata": {},
   "source": [
    "### Agrupación de Datos - GroupBy:\n",
    "Vamos a agrupar nuestros datos preprocesados a nivel del \"region_name\" y calcular la cantidad total de prescripciones médicas y la media de unidades solicitadas (total_sales y avg_qt)."
   ]
  },
  {
   "cell_type": "code",
   "execution_count": 28,
   "id": "03332c05",
   "metadata": {},
   "outputs": [
    {
     "data": {
      "text/html": [
       "<div><style>\n",
       ".dataframe > thead > tr,\n",
       ".dataframe > tbody > tr {\n",
       "  text-align: right;\n",
       "  white-space: pre-wrap;\n",
       "}\n",
       "</style>\n",
       "<small>shape: (2, 3)</small><table border=\"1\" class=\"dataframe\"><thead><tr><th>grupo</th><th>total_cobrado</th><th>avg_total</th></tr><tr><td>str</td><td>i64</td><td>f64</td></tr></thead><tbody><tr><td>&quot;EXAMENES&quot;</td><td>32464491802</td><td>17236.481846</td></tr><tr><td>&quot;CONSULTAS&quot;</td><td>61570858894</td><td>66496.362902</td></tr></tbody></table></div>"
      ],
      "text/plain": [
       "shape: (2, 3)\n",
       "┌───────────┬───────────────┬──────────────┐\n",
       "│ grupo     ┆ total_cobrado ┆ avg_total    │\n",
       "│ ---       ┆ ---           ┆ ---          │\n",
       "│ str       ┆ i64           ┆ f64          │\n",
       "╞═══════════╪═══════════════╪══════════════╡\n",
       "│ EXAMENES  ┆ 32464491802   ┆ 17236.481846 │\n",
       "│ CONSULTAS ┆ 61570858894   ┆ 66496.362902 │\n",
       "└───────────┴───────────────┴──────────────┘"
      ]
     },
     "execution_count": 28,
     "metadata": {},
     "output_type": "execute_result"
    }
   ],
   "source": [
    "# Group by Operation\n",
    "# ==============================================================================\n",
    "agg_df = (\n",
    "    lazy_procesado_df\n",
    "    .group_by(['grupo'])\n",
    "    .agg(\n",
    "        [\n",
    "            pl.col('cobrado').sum().alias('total_cobrado'),\n",
    "            pl.col('TOTAL').mean().alias('avg_total'),\n",
    "        ]\n",
    "    )\n",
    "    .sort('total_cobrado')\n",
    "    \n",
    ").collect()\n",
    "\n",
    "agg_df"
   ]
  },
  {
   "cell_type": "markdown",
   "id": "78a471fa",
   "metadata": {},
   "source": [
    "##### En este ejemplo hemos utilizado las funciones .sum() y .mean() para agrupar los datos."
   ]
  },
  {
   "cell_type": "code",
   "execution_count": 2,
   "id": "8f44c44f",
   "metadata": {},
   "outputs": [
    {
     "name": "stdout",
     "output_type": "stream",
     "text": [
      "--- 33.7153046131134 seconds ---\n"
     ]
    }
   ],
   "source": [
    "from datetime import datetime\n",
    "import time\n",
    "import polars as pl\n",
    "start_time = time.time()\n",
    "df=pl.read_csv('CIA_SEGURO_2023.csv')\n",
    "print(\"--- %s seconds ---\" % (time.time() - start_time))"
   ]
  },
  {
   "cell_type": "code",
   "execution_count": 3,
   "id": "06b6a308",
   "metadata": {},
   "outputs": [
    {
     "name": "stdout",
     "output_type": "stream",
     "text": [
      "--- 105.29424738883972 seconds ---\n"
     ]
    }
   ],
   "source": [
    "from datetime import datetime\n",
    "import time\n",
    "import pandas as pd\n",
    "start_time = time.time()\n",
    "df=pd.read_csv('CIA_SEGURO_2023.csv')\n",
    "print(\"--- %s seconds ---\" % (time.time() - start_time))"
   ]
  },
  {
   "cell_type": "code",
   "execution_count": null,
   "id": "3e1ac915",
   "metadata": {},
   "outputs": [],
   "source": []
  }
 ],
 "metadata": {
  "kernelspec": {
   "display_name": "Python 3 (ipykernel)",
   "language": "python",
   "name": "python3"
  },
  "language_info": {
   "codemirror_mode": {
    "name": "ipython",
    "version": 3
   },
   "file_extension": ".py",
   "mimetype": "text/x-python",
   "name": "python",
   "nbconvert_exporter": "python",
   "pygments_lexer": "ipython3",
   "version": "3.11.5"
  }
 },
 "nbformat": 4,
 "nbformat_minor": 5
}
